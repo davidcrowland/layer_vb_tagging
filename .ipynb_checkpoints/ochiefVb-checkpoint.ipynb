{
 "cells": [
  {
   "cell_type": "markdown",
   "metadata": {},
   "source": [
    "# Layer Vb mice"
   ]
  },
  {
   "cell_type": "code",
   "execution_count": 1,
   "metadata": {
    "code_folding": [
     0
    ]
   },
   "outputs": [
    {
     "name": "stdout",
     "output_type": "stream",
     "text": [
      "Loaded analysis helpers: General\n",
      "Loaded postgres_analysis_helpers -> general\n",
      "Loaded postgres_analysis_helpers -> get_data\n",
      "Loaded postgres_analysis_helpers -> circstat_functions\n",
      "Loaded postgres_analysis_helpers -> extra analysis\n"
     ]
    }
   ],
   "source": [
    "# Imports:\n",
    "%load_ext autoreload\n",
    "%autoreload 2\n",
    "\n",
    "import json\n",
    "import numpy as np\n",
    "import math\n",
    "import psycopg2\n",
    "import numpy as np\n",
    "import pandas as pd\n",
    "from datetime import date\n",
    "from tqdm import tqdm_notebook\n",
    "\n",
    "from scipy import signal \n",
    "\n",
    "# Plotting:\n",
    "from matplotlib import pyplot as plt\n",
    "import seaborn as sns\n",
    "import matplotlib.cm as cm\n",
    "import matplotlib as mpl\n",
    "%matplotlib inline\n",
    "%config InlineBackend.figure_format = 'retina'\n",
    "\n",
    "sns.set()\n",
    "\n",
    "# External functions from subfolder /database_helpers. \n",
    "# as soon as you change something in there and press save, it will auto reload on next execution.\n",
    "from database_helpers.psql_start import *\n",
    "from database_helpers.create_tables import *\n",
    "from database_helpers.write2tables import *\n",
    "from postgres_analysis_helpers.general import *\n",
    "from postgres_analysis_helpers.get_data import *\n",
    "from postgres_analysis_helpers.circstat_functions import *\n",
    "from postgres_analysis_helpers.extra_analysis import *\n",
    "\n",
    "# register pickle type to retrieve binary data from database\n",
    "psycopg2.extensions.register_type(psycopg2.extensions.new_type(psycopg2.BINARY.values, 'BINARY-PICKLE', cast_pickle))"
   ]
  },
  {
   "cell_type": "code",
   "execution_count": 2,
   "metadata": {
    "code_folding": [
     0
    ]
   },
   "outputs": [
    {
     "name": "stdout",
     "output_type": "stream",
     "text": [
      "Connecting to the PostgreSQL database...\n",
      "Woot! Database connection is established!\n"
     ]
    }
   ],
   "source": [
    "# Database connection check\n",
    "db_status = test_connect()\n",
    "if db_status == False:\n",
    "    print('Grrr... no database connection could be established.')\n",
    "else:\n",
    "    print('Woot! Database connection is established!')"
   ]
  },
  {
   "cell_type": "code",
   "execution_count": null,
   "metadata": {
    "collapsed": true
   },
   "outputs": [],
   "source": []
  },
  {
   "cell_type": "markdown",
   "metadata": {},
   "source": [
    "# Load data"
   ]
  },
  {
   "cell_type": "code",
   "execution_count": 3,
   "metadata": {},
   "outputs": [
    {
     "name": "stdout",
     "output_type": "stream",
     "text": [
      "89 animals across 5 experimenters found.\n",
      "Total # of sessions: 10149 (unique clusters: 16924)\n",
      "3023 entries retrieved.\n"
     ]
    }
   ],
   "source": [
    "stimulus_stats = pd.DataFrame() # create empty dataframe or feed in a base dataframe from before! \n",
    "psql = psql_neuroballs(stimulus_stats) # initialize retrieval\n",
    "\n",
    "dict_ = {'stimulus_tb': ''}\n",
    "animals_ = ['78367','76344','79299','80572','80250','79815']\n",
    "filter_ = \"AND session_name NOT LIKE '%obj%' AND session_name NOT LIKE '%stab%' AND session_name NOT LIKE '%room%' AND session_name NOT LIKE '%bord%'\"\n",
    "stimulus_stats = psql.retrieve_data(dict_,animals_,filter_)"
   ]
  },
  {
   "cell_type": "code",
   "execution_count": 4,
   "metadata": {},
   "outputs": [
    {
     "data": {
      "text/plain": [
       "Index(['session_ts', 'tetrode_no', 'session_name', 'animal_id', 'n_drive_user',\n",
       "       'cluster_no', 'analysis_ts', 'filename', 'analysis_window',\n",
       "       'salt_window', 'sample_rate', 'sample_rate_inp', 'ibi', 'stim_freq',\n",
       "       'stim_length', 'counter_stimuli', 'excited', 'salt_p', 'salt_i',\n",
       "       'ex_latency_mean', 'ex_latency_median', 'ex_latency_var',\n",
       "       'ex_latency_reliabil', 'stats_p_inhib_10', 'stats_p_inhib_20',\n",
       "       'stats_p_inhib_30', 'stats_p_inhib_40', 'inhibited', 'inhib_lowest_p',\n",
       "       'inhib_lowest_p_interval', 'change_point_ms'],\n",
       "      dtype='object')"
      ]
     },
     "execution_count": 4,
     "metadata": {},
     "output_type": "execute_result"
    }
   ],
   "source": [
    "stimulus_stats.columns"
   ]
  },
  {
   "cell_type": "code",
   "execution_count": 5,
   "metadata": {
    "collapsed": true
   },
   "outputs": [],
   "source": [
    "# Set parameters:\n",
    "# excitation:\n",
    "salt_i_thresh = 0.09\n",
    "salt_p_thresh = 0.05\n",
    "min_number_sessions = 2 # min number of session for which criteria above have to be fullfilled\n",
    "pearson_r_thresh = 0.99 # waveform similarity cutoff\n",
    "\n",
    "# ISI contamination (%)\n",
    "isi_contam_thresh = 1\n",
    "\n",
    "# inhibition:\n",
    "p_inhib_thresh = 0.001 # inhibition threshold\n",
    "inhib_interval_ = 10 # Interval to filter for - to get rid of spurious results (blanking artefacts) \n",
    "# ISI contamination (%)\n",
    "isi_contam_thresh = 1"
   ]
  },
  {
   "cell_type": "code",
   "execution_count": 6,
   "metadata": {},
   "outputs": [
    {
     "data": {
      "application/vnd.jupyter.widget-view+json": {
       "model_id": "c7546d996130481389a789bfce019094",
       "version_major": 2,
       "version_minor": 0
      },
      "text/html": [
       "<p>Failed to display Jupyter Widget of type <code>HBox</code>.</p>\n",
       "<p>\n",
       "  If you're reading this message in Jupyter Notebook or JupyterLab, it may mean\n",
       "  that the widgets JavaScript is still loading. If this message persists, it\n",
       "  likely means that the widgets JavaScript library is either not installed or\n",
       "  not enabled. See the <a href=\"https://ipywidgets.readthedocs.io/en/stable/user_install.html\">Jupyter\n",
       "  Widgets Documentation</a> for setup instructions.\n",
       "</p>\n",
       "<p>\n",
       "  If you're reading this message in another notebook frontend (for example, a static\n",
       "  rendering on GitHub or <a href=\"https://nbviewer.jupyter.org/\">NBViewer</a>),\n",
       "  it may mean that your frontend doesn't currently support widgets.\n",
       "</p>\n"
      ],
      "text/plain": [
       "HBox(children=(IntProgress(value=0, max=3023), HTML(value='')))"
      ]
     },
     "metadata": {},
     "output_type": "display_data"
    },
    {
     "name": "stdout",
     "output_type": "stream",
     "text": [
      "\n"
     ]
    }
   ],
   "source": [
    "labels_excited_ = []\n",
    "labels_inhibited_ = []\n",
    "\n",
    "for i in tqdm_notebook(range(len(stimulus_stats))):\n",
    "   \n",
    "    if (stimulus_stats.iloc[i].salt_i >= salt_i_thresh) and (stimulus_stats.iloc[i].salt_p < salt_p_thresh):\n",
    "        labels_excited_.append('excited')\n",
    "    else:\n",
    "        labels_excited_.append('not_excited')\n",
    "    ######################################################################\n",
    "    if (stimulus_stats.iloc[i].inhib_lowest_p < p_inhib_thresh) and (stimulus_stats.iloc[i].inhib_lowest_p_interval > inhib_interval_) and \\\n",
    "                                (stimulus_stats.iloc[i].inhibited == True):\n",
    "        labels_inhibited_.append('inhibited')\n",
    "    else:\n",
    "        labels_inhibited_.append('not_inhibited')\n",
    "    ######################################################################\n",
    "        \n",
    "stimulus_stats['excited_'] = labels_excited_\n",
    "stimulus_stats['inhibited_'] = labels_inhibited_"
   ]
  },
  {
   "cell_type": "code",
   "execution_count": 7,
   "metadata": {
    "collapsed": true
   },
   "outputs": [],
   "source": [
    "excited_cells = stimulus_stats[stimulus_stats['excited_'] == 'excited'].reset_index(drop=True)\n",
    "excited_cells.sort_values(by='salt_i',ascending=False,inplace=True)\n",
    "excited_cells.reset_index(inplace=True,drop=True)\n",
    "\n",
    "inhibited_cells = stimulus_stats[stimulus_stats['inhibited_'] == 'inhibited'].reset_index(drop=True)\n",
    "inhibited_cells.sort_values(by='inhib_lowest_p',ascending=True,inplace=True)\n",
    "inhibited_cells.reset_index(inplace=True,drop=True)\n",
    "\n",
    "rest_cells = stimulus_stats[(stimulus_stats['inhibited_'] == 'not_inhibited') &\\\n",
    "                           (stimulus_stats['excited_'] == 'not_excited')].reset_index(drop=True)\n",
    "rest_cells.reset_index(inplace=True,drop=True)"
   ]
  },
  {
   "cell_type": "code",
   "execution_count": 8,
   "metadata": {
    "collapsed": true
   },
   "outputs": [],
   "source": [
    "# Excited cells:\n",
    "drop_subgroup_excited = ['animal_id','n_drive_user','session_ts','cluster_no','tetrode_no','excited_','filename']\n",
    "drop_subgroup_inhibited = ['animal_id','n_drive_user','session_ts','cluster_no','tetrode_no','inhibited_','filename']\n",
    "drop_subgroup_rest = ['animal_id','n_drive_user','session_ts','cluster_no','tetrode_no','filename']\n",
    "\n",
    "no_sessions_excited_cells = excited_cells.groupby(drop_subgroup_excited).size().reset_index().copy()\n",
    "excited_cells_sessions = excited_cells.drop_duplicates(drop_subgroup_excited).sort_values(by=drop_subgroup_excited).reset_index().copy()\n",
    "\n",
    "# Quick sanity check (both have to be true)\n",
    "if ((no_sessions_excited_cells.animal_id.values == excited_cells_sessions.animal_id.values).all() != True) or ((no_sessions_excited_cells.cluster_no.values == excited_cells_sessions.cluster_no.values).all() != True): \n",
    "    print('DATAFRAMES DO NOT MATCH!'); sys.exit()\n",
    "excited_cells_sessions['no_sessions'] = no_sessions_excited_cells.iloc[:,-1].values\n",
    "\n",
    "# Inhibited cells:\n",
    "no_sessions_inhibited_cells = inhibited_cells.groupby(drop_subgroup_inhibited).size().reset_index().copy()\n",
    "inhibited_cells_sessions = inhibited_cells.drop_duplicates(drop_subgroup_inhibited).sort_values(by=drop_subgroup_inhibited).reset_index().copy()\n",
    "\n",
    "# Quick sanity check (both have to be true)\n",
    "if ((no_sessions_inhibited_cells.animal_id.values == inhibited_cells_sessions.animal_id.values).all() != True) or ((no_sessions_inhibited_cells.cluster_no.values == inhibited_cells_sessions.cluster_no.values).all() != True): \n",
    "    print('DATAFRAMES DO NOT MATCH!'); sys.exit()\n",
    "inhibited_cells_sessions['no_sessions'] = no_sessions_inhibited_cells.iloc[:,-1].values\n",
    "\n",
    "# Rest of cells:\n",
    "no_sessions_rest_cells = rest_cells.groupby(drop_subgroup_rest).size().reset_index().copy()\n",
    "rest_cells_sessions = rest_cells.drop_duplicates(drop_subgroup_rest).sort_values(by=drop_subgroup_rest).reset_index().copy()\n",
    "\n",
    "# Quick sanity check (both have to be true)\n",
    "if ((no_sessions_rest_cells.animal_id.values == rest_cells_sessions.animal_id.values).all() != True) or ((no_sessions_rest_cells.cluster_no.values == rest_cells_sessions.cluster_no.values).all() != True): \n",
    "    print('DATAFRAMES DO NOT MATCH!'); sys.exit()\n",
    "    \n",
    "rest_cells_sessions['no_sessions'] = no_sessions_rest_cells.iloc[:,-1].values"
   ]
  },
  {
   "cell_type": "code",
   "execution_count": 9,
   "metadata": {
    "collapsed": true
   },
   "outputs": [],
   "source": [
    "labels_ = []\n",
    "for i in range(len(excited_cells_sessions)):\n",
    "    if excited_cells_sessions.iloc[i].no_sessions < min_number_sessions:\n",
    "        labels_.append('not_excited')\n",
    "    else:\n",
    "        labels_.append('excited')\n",
    "excited_cells_sessions['excited_'] = labels_ \n",
    "\n",
    "labels_ = []\n",
    "for i in range(len(inhibited_cells_sessions)):\n",
    "    if inhibited_cells_sessions.iloc[i].no_sessions < min_number_sessions:\n",
    "        labels_.append('not_inhibited')\n",
    "    else:\n",
    "        labels_.append('inhibited')\n",
    "inhibited_cells_sessions['inhibited_'] = labels_ "
   ]
  },
  {
   "cell_type": "code",
   "execution_count": 10,
   "metadata": {
    "collapsed": true
   },
   "outputs": [],
   "source": [
    "# overwrite original dfs. \n",
    "excited_cells = excited_cells_sessions.copy()\n",
    "inhibited_cells = inhibited_cells_sessions.copy()\n",
    "rest_cells = rest_cells_sessions.copy()"
   ]
  },
  {
   "cell_type": "code",
   "execution_count": 11,
   "metadata": {},
   "outputs": [
    {
     "name": "stdout",
     "output_type": "stream",
     "text": [
      "Length of input dataframe: 19\n",
      "Dataframe not empty\n"
     ]
    },
    {
     "data": {
      "application/vnd.jupyter.widget-view+json": {
       "model_id": "ac1869c0de91463680d4ebc00b6bc84b",
       "version_major": 2,
       "version_minor": 0
      },
      "text/html": [
       "<p>Failed to display Jupyter Widget of type <code>HBox</code>.</p>\n",
       "<p>\n",
       "  If you're reading this message in Jupyter Notebook or JupyterLab, it may mean\n",
       "  that the widgets JavaScript is still loading. If this message persists, it\n",
       "  likely means that the widgets JavaScript library is either not installed or\n",
       "  not enabled. See the <a href=\"https://ipywidgets.readthedocs.io/en/stable/user_install.html\">Jupyter\n",
       "  Widgets Documentation</a> for setup instructions.\n",
       "</p>\n",
       "<p>\n",
       "  If you're reading this message in another notebook frontend (for example, a static\n",
       "  rendering on GitHub or <a href=\"https://nbviewer.jupyter.org/\">NBViewer</a>),\n",
       "  it may mean that your frontend doesn't currently support widgets.\n",
       "</p>\n"
      ],
      "text/plain": [
       "HBox(children=(IntProgress(value=0, description='Mining tables: ', max=1), HTML(value='')))"
      ]
     },
     "metadata": {},
     "output_type": "display_data"
    },
    {
     "data": {
      "application/vnd.jupyter.widget-view+json": {
       "model_id": "8ea5d871e5df405ab9f8666e1a01c257",
       "version_major": 2,
       "version_minor": 0
      },
      "text/html": [
       "<p>Failed to display Jupyter Widget of type <code>HBox</code>.</p>\n",
       "<p>\n",
       "  If you're reading this message in Jupyter Notebook or JupyterLab, it may mean\n",
       "  that the widgets JavaScript is still loading. If this message persists, it\n",
       "  likely means that the widgets JavaScript library is either not installed or\n",
       "  not enabled. See the <a href=\"https://ipywidgets.readthedocs.io/en/stable/user_install.html\">Jupyter\n",
       "  Widgets Documentation</a> for setup instructions.\n",
       "</p>\n",
       "<p>\n",
       "  If you're reading this message in another notebook frontend (for example, a static\n",
       "  rendering on GitHub or <a href=\"https://nbviewer.jupyter.org/\">NBViewer</a>),\n",
       "  it may mean that your frontend doesn't currently support widgets.\n",
       "</p>\n"
      ],
      "text/plain": [
       "HBox(children=(IntProgress(value=0, description='waveforms_tb: ', max=19), HTML(value='')))"
      ]
     },
     "metadata": {},
     "output_type": "display_data"
    },
    {
     "name": "stdout",
     "output_type": "stream",
     "text": [
      "Success. NaNs: 2\n",
      "\n",
      "Length of input dataframe: 22\n",
      "Dataframe not empty\n"
     ]
    },
    {
     "data": {
      "application/vnd.jupyter.widget-view+json": {
       "model_id": "313abc873e8645b899b7ed17db0a4fcc",
       "version_major": 2,
       "version_minor": 0
      },
      "text/html": [
       "<p>Failed to display Jupyter Widget of type <code>HBox</code>.</p>\n",
       "<p>\n",
       "  If you're reading this message in Jupyter Notebook or JupyterLab, it may mean\n",
       "  that the widgets JavaScript is still loading. If this message persists, it\n",
       "  likely means that the widgets JavaScript library is either not installed or\n",
       "  not enabled. See the <a href=\"https://ipywidgets.readthedocs.io/en/stable/user_install.html\">Jupyter\n",
       "  Widgets Documentation</a> for setup instructions.\n",
       "</p>\n",
       "<p>\n",
       "  If you're reading this message in another notebook frontend (for example, a static\n",
       "  rendering on GitHub or <a href=\"https://nbviewer.jupyter.org/\">NBViewer</a>),\n",
       "  it may mean that your frontend doesn't currently support widgets.\n",
       "</p>\n"
      ],
      "text/plain": [
       "HBox(children=(IntProgress(value=0, description='Mining tables: ', max=1), HTML(value='')))"
      ]
     },
     "metadata": {},
     "output_type": "display_data"
    },
    {
     "data": {
      "application/vnd.jupyter.widget-view+json": {
       "model_id": "4dca152c50564f83aa157c5e16e6a6b7",
       "version_major": 2,
       "version_minor": 0
      },
      "text/html": [
       "<p>Failed to display Jupyter Widget of type <code>HBox</code>.</p>\n",
       "<p>\n",
       "  If you're reading this message in Jupyter Notebook or JupyterLab, it may mean\n",
       "  that the widgets JavaScript is still loading. If this message persists, it\n",
       "  likely means that the widgets JavaScript library is either not installed or\n",
       "  not enabled. See the <a href=\"https://ipywidgets.readthedocs.io/en/stable/user_install.html\">Jupyter\n",
       "  Widgets Documentation</a> for setup instructions.\n",
       "</p>\n",
       "<p>\n",
       "  If you're reading this message in another notebook frontend (for example, a static\n",
       "  rendering on GitHub or <a href=\"https://nbviewer.jupyter.org/\">NBViewer</a>),\n",
       "  it may mean that your frontend doesn't currently support widgets.\n",
       "</p>\n"
      ],
      "text/plain": [
       "HBox(children=(IntProgress(value=0, description='waveforms_tb: ', max=22), HTML(value='')))"
      ]
     },
     "metadata": {},
     "output_type": "display_data"
    },
    {
     "name": "stdout",
     "output_type": "stream",
     "text": [
      "Success. NaNs: 0\n",
      "\n"
     ]
    }
   ],
   "source": [
    "psql = psql_neuroballs(excited_cells) # initialize retrieval\n",
    "dict_ = {'waveforms_tb':'mean_wf'}\n",
    "excited_cells = psql.retrieve_data(dict_)\n",
    "\n",
    "psql = psql_neuroballs(inhibited_cells) # initialize retrieval\n",
    "dict_ = {'waveforms_tb':'mean_wf'}\n",
    "inhibited_cells = psql.retrieve_data(dict_)"
   ]
  },
  {
   "cell_type": "code",
   "execution_count": 12,
   "metadata": {
    "collapsed": true
   },
   "outputs": [],
   "source": [
    "excited_cells.rename(columns={'mean_wf':'mean_wf_laser','session_name':'session_name_laser'}, inplace=True) # rename the waveform column - \"tag\" with laser\n",
    "inhibited_cells.rename(columns={'mean_wf':'mean_wf_laser','session_name':'session_name_laser'}, inplace=True) \n",
    "rest_cells.rename(columns={'session_name':'session_name_laser'}, inplace=True)"
   ]
  },
  {
   "cell_type": "code",
   "execution_count": 13,
   "metadata": {},
   "outputs": [
    {
     "name": "stdout",
     "output_type": "stream",
     "text": [
      "Length of input dataframe: 19\n",
      "Dataframe not empty\n"
     ]
    },
    {
     "data": {
      "application/vnd.jupyter.widget-view+json": {
       "model_id": "bfa7dc79740a48d5a7237768a155ae6b",
       "version_major": 2,
       "version_minor": 0
      },
      "text/html": [
       "<p>Failed to display Jupyter Widget of type <code>HBox</code>.</p>\n",
       "<p>\n",
       "  If you're reading this message in Jupyter Notebook or JupyterLab, it may mean\n",
       "  that the widgets JavaScript is still loading. If this message persists, it\n",
       "  likely means that the widgets JavaScript library is either not installed or\n",
       "  not enabled. See the <a href=\"https://ipywidgets.readthedocs.io/en/stable/user_install.html\">Jupyter\n",
       "  Widgets Documentation</a> for setup instructions.\n",
       "</p>\n",
       "<p>\n",
       "  If you're reading this message in another notebook frontend (for example, a static\n",
       "  rendering on GitHub or <a href=\"https://nbviewer.jupyter.org/\">NBViewer</a>),\n",
       "  it may mean that your frontend doesn't currently support widgets.\n",
       "</p>\n"
      ],
      "text/plain": [
       "HBox(children=(IntProgress(value=0, description='Mining tables: ', max=2), HTML(value='')))"
      ]
     },
     "metadata": {},
     "output_type": "display_data"
    },
    {
     "data": {
      "application/vnd.jupyter.widget-view+json": {
       "model_id": "0f2809416d9241f592e90ccd62d0fab5",
       "version_major": 2,
       "version_minor": 0
      },
      "text/html": [
       "<p>Failed to display Jupyter Widget of type <code>HBox</code>.</p>\n",
       "<p>\n",
       "  If you're reading this message in Jupyter Notebook or JupyterLab, it may mean\n",
       "  that the widgets JavaScript is still loading. If this message persists, it\n",
       "  likely means that the widgets JavaScript library is either not installed or\n",
       "  not enabled. See the <a href=\"https://ipywidgets.readthedocs.io/en/stable/user_install.html\">Jupyter\n",
       "  Widgets Documentation</a> for setup instructions.\n",
       "</p>\n",
       "<p>\n",
       "  If you're reading this message in another notebook frontend (for example, a static\n",
       "  rendering on GitHub or <a href=\"https://nbviewer.jupyter.org/\">NBViewer</a>),\n",
       "  it may mean that your frontend doesn't currently support widgets.\n",
       "</p>\n"
      ],
      "text/plain": [
       "HBox(children=(IntProgress(value=0, description='waveforms_tb: ', max=19), HTML(value='')))"
      ]
     },
     "metadata": {},
     "output_type": "display_data"
    },
    {
     "name": "stdout",
     "output_type": "stream",
     "text": [
      "Success. NaNs: 1\n"
     ]
    },
    {
     "data": {
      "application/vnd.jupyter.widget-view+json": {
       "model_id": "ac85e33f966442a1a56115596669e88e",
       "version_major": 2,
       "version_minor": 0
      },
      "text/html": [
       "<p>Failed to display Jupyter Widget of type <code>HBox</code>.</p>\n",
       "<p>\n",
       "  If you're reading this message in Jupyter Notebook or JupyterLab, it may mean\n",
       "  that the widgets JavaScript is still loading. If this message persists, it\n",
       "  likely means that the widgets JavaScript library is either not installed or\n",
       "  not enabled. See the <a href=\"https://ipywidgets.readthedocs.io/en/stable/user_install.html\">Jupyter\n",
       "  Widgets Documentation</a> for setup instructions.\n",
       "</p>\n",
       "<p>\n",
       "  If you're reading this message in another notebook frontend (for example, a static\n",
       "  rendering on GitHub or <a href=\"https://nbviewer.jupyter.org/\">NBViewer</a>),\n",
       "  it may mean that your frontend doesn't currently support widgets.\n",
       "</p>\n"
      ],
      "text/plain": [
       "HBox(children=(IntProgress(value=0, description='ISI_tb: ', max=19), HTML(value='')))"
      ]
     },
     "metadata": {},
     "output_type": "display_data"
    },
    {
     "name": "stdout",
     "output_type": "stream",
     "text": [
      "Success. NaNs: 1\n",
      "\n",
      "Length of input dataframe: 22\n",
      "Dataframe not empty\n"
     ]
    },
    {
     "data": {
      "application/vnd.jupyter.widget-view+json": {
       "model_id": "a33aef4f13094ed1b0578f82af9614ae",
       "version_major": 2,
       "version_minor": 0
      },
      "text/html": [
       "<p>Failed to display Jupyter Widget of type <code>HBox</code>.</p>\n",
       "<p>\n",
       "  If you're reading this message in Jupyter Notebook or JupyterLab, it may mean\n",
       "  that the widgets JavaScript is still loading. If this message persists, it\n",
       "  likely means that the widgets JavaScript library is either not installed or\n",
       "  not enabled. See the <a href=\"https://ipywidgets.readthedocs.io/en/stable/user_install.html\">Jupyter\n",
       "  Widgets Documentation</a> for setup instructions.\n",
       "</p>\n",
       "<p>\n",
       "  If you're reading this message in another notebook frontend (for example, a static\n",
       "  rendering on GitHub or <a href=\"https://nbviewer.jupyter.org/\">NBViewer</a>),\n",
       "  it may mean that your frontend doesn't currently support widgets.\n",
       "</p>\n"
      ],
      "text/plain": [
       "HBox(children=(IntProgress(value=0, description='Mining tables: ', max=2), HTML(value='')))"
      ]
     },
     "metadata": {},
     "output_type": "display_data"
    },
    {
     "data": {
      "application/vnd.jupyter.widget-view+json": {
       "model_id": "f586741ef6834f5587273f64b75dfac4",
       "version_major": 2,
       "version_minor": 0
      },
      "text/html": [
       "<p>Failed to display Jupyter Widget of type <code>HBox</code>.</p>\n",
       "<p>\n",
       "  If you're reading this message in Jupyter Notebook or JupyterLab, it may mean\n",
       "  that the widgets JavaScript is still loading. If this message persists, it\n",
       "  likely means that the widgets JavaScript library is either not installed or\n",
       "  not enabled. See the <a href=\"https://ipywidgets.readthedocs.io/en/stable/user_install.html\">Jupyter\n",
       "  Widgets Documentation</a> for setup instructions.\n",
       "</p>\n",
       "<p>\n",
       "  If you're reading this message in another notebook frontend (for example, a static\n",
       "  rendering on GitHub or <a href=\"https://nbviewer.jupyter.org/\">NBViewer</a>),\n",
       "  it may mean that your frontend doesn't currently support widgets.\n",
       "</p>\n"
      ],
      "text/plain": [
       "HBox(children=(IntProgress(value=0, description='waveforms_tb: ', max=22), HTML(value='')))"
      ]
     },
     "metadata": {},
     "output_type": "display_data"
    },
    {
     "name": "stdout",
     "output_type": "stream",
     "text": [
      "Success. NaNs: 0\n"
     ]
    },
    {
     "data": {
      "application/vnd.jupyter.widget-view+json": {
       "model_id": "6deb7184bfdc47eca06c699ca7e4333f",
       "version_major": 2,
       "version_minor": 0
      },
      "text/html": [
       "<p>Failed to display Jupyter Widget of type <code>HBox</code>.</p>\n",
       "<p>\n",
       "  If you're reading this message in Jupyter Notebook or JupyterLab, it may mean\n",
       "  that the widgets JavaScript is still loading. If this message persists, it\n",
       "  likely means that the widgets JavaScript library is either not installed or\n",
       "  not enabled. See the <a href=\"https://ipywidgets.readthedocs.io/en/stable/user_install.html\">Jupyter\n",
       "  Widgets Documentation</a> for setup instructions.\n",
       "</p>\n",
       "<p>\n",
       "  If you're reading this message in another notebook frontend (for example, a static\n",
       "  rendering on GitHub or <a href=\"https://nbviewer.jupyter.org/\">NBViewer</a>),\n",
       "  it may mean that your frontend doesn't currently support widgets.\n",
       "</p>\n"
      ],
      "text/plain": [
       "HBox(children=(IntProgress(value=0, description='ISI_tb: ', max=22), HTML(value='')))"
      ]
     },
     "metadata": {},
     "output_type": "display_data"
    },
    {
     "name": "stdout",
     "output_type": "stream",
     "text": [
      "Success. NaNs: 0\n",
      "\n",
      "Length of input dataframe: 436\n",
      "Dataframe not empty\n"
     ]
    },
    {
     "data": {
      "application/vnd.jupyter.widget-view+json": {
       "model_id": "30223dcec85a4447b490c4fce1995065",
       "version_major": 2,
       "version_minor": 0
      },
      "text/html": [
       "<p>Failed to display Jupyter Widget of type <code>HBox</code>.</p>\n",
       "<p>\n",
       "  If you're reading this message in Jupyter Notebook or JupyterLab, it may mean\n",
       "  that the widgets JavaScript is still loading. If this message persists, it\n",
       "  likely means that the widgets JavaScript library is either not installed or\n",
       "  not enabled. See the <a href=\"https://ipywidgets.readthedocs.io/en/stable/user_install.html\">Jupyter\n",
       "  Widgets Documentation</a> for setup instructions.\n",
       "</p>\n",
       "<p>\n",
       "  If you're reading this message in another notebook frontend (for example, a static\n",
       "  rendering on GitHub or <a href=\"https://nbviewer.jupyter.org/\">NBViewer</a>),\n",
       "  it may mean that your frontend doesn't currently support widgets.\n",
       "</p>\n"
      ],
      "text/plain": [
       "HBox(children=(IntProgress(value=0, description='Mining tables: ', max=1), HTML(value='')))"
      ]
     },
     "metadata": {},
     "output_type": "display_data"
    },
    {
     "data": {
      "application/vnd.jupyter.widget-view+json": {
       "model_id": "07bf00e95d204e06b2eab1359d60f22d",
       "version_major": 2,
       "version_minor": 0
      },
      "text/html": [
       "<p>Failed to display Jupyter Widget of type <code>HBox</code>.</p>\n",
       "<p>\n",
       "  If you're reading this message in Jupyter Notebook or JupyterLab, it may mean\n",
       "  that the widgets JavaScript is still loading. If this message persists, it\n",
       "  likely means that the widgets JavaScript library is either not installed or\n",
       "  not enabled. See the <a href=\"https://ipywidgets.readthedocs.io/en/stable/user_install.html\">Jupyter\n",
       "  Widgets Documentation</a> for setup instructions.\n",
       "</p>\n",
       "<p>\n",
       "  If you're reading this message in another notebook frontend (for example, a static\n",
       "  rendering on GitHub or <a href=\"https://nbviewer.jupyter.org/\">NBViewer</a>),\n",
       "  it may mean that your frontend doesn't currently support widgets.\n",
       "</p>\n"
      ],
      "text/plain": [
       "HBox(children=(IntProgress(value=0, description='ISI_tb: ', max=436), HTML(value='')))"
      ]
     },
     "metadata": {},
     "output_type": "display_data"
    },
    {
     "name": "stdout",
     "output_type": "stream",
     "text": [
      "Success. NaNs: 0\n",
      "\n"
     ]
    }
   ],
   "source": [
    "dict_ = {'waveforms_tb':'mean_wf','ISI_tb':'ISI_stats_contam_perc'}\n",
    "filter_ = \"NOT LIKE '%las%' AND session_name NOT LIKE '%obj%' AND session_name NOT LIKE '%stab%' AND session_name NOT LIKE '%room%' AND session_name NOT LIKE '%bord%'\"\n",
    "\n",
    "psql = psql_neuroballs(excited_cells) # initialize retrieval\n",
    "excited_cells = psql.retrieve_data(user_sql_tables=dict_,user_sql_filter=filter_)\n",
    "\n",
    "psql = psql_neuroballs(inhibited_cells) # initialize retrieval\n",
    "inhibited_cells = psql.retrieve_data(user_sql_tables=dict_,user_sql_filter=filter_)\n",
    "\n",
    "dict_ = {'ISI_tb':'ISI_stats_contam_perc'}\n",
    "psql = psql_neuroballs(rest_cells) # initialize retrieval\n",
    "rest_cells = psql.retrieve_data(user_sql_tables=dict_,user_sql_filter=filter_)"
   ]
  },
  {
   "cell_type": "code",
   "execution_count": null,
   "metadata": {
    "collapsed": true
   },
   "outputs": [],
   "source": []
  },
  {
   "cell_type": "code",
   "execution_count": 14,
   "metadata": {
    "collapsed": true
   },
   "outputs": [],
   "source": [
    "# get rid of duplicates\n",
    "drop_subgroup = ['animal_id','n_drive_user','session_ts','cluster_no','tetrode_no','excited_','inhibited_','filename']\n",
    "inhibited_cells = inhibited_cells.drop_duplicates(drop_subgroup).reset_index().copy()\n",
    "excited_cells = excited_cells.drop_duplicates(drop_subgroup).reset_index().copy()\n",
    "rest_cells = rest_cells.drop_duplicates(drop_subgroup).reset_index().copy()"
   ]
  },
  {
   "cell_type": "markdown",
   "metadata": {},
   "source": [
    "### Drop nans (careful! these cells will not appear anymore!) "
   ]
  },
  {
   "cell_type": "code",
   "execution_count": 15,
   "metadata": {
    "collapsed": true
   },
   "outputs": [],
   "source": [
    "excited_cells.dropna(subset=['mean_wf','mean_wf_laser','isi_stats_contam_perc'],inplace=True)\n",
    "inhibited_cells.dropna(subset=['mean_wf','mean_wf_laser','isi_stats_contam_perc'],inplace=True)\n",
    "rest_cells.dropna(subset=['isi_stats_contam_perc'],inplace=True) # for rest cells only get rid of isi contaminations"
   ]
  },
  {
   "cell_type": "markdown",
   "metadata": {},
   "source": [
    "### Rest of the cells: get rid of ISI contaminated cells"
   ]
  },
  {
   "cell_type": "code",
   "execution_count": 16,
   "metadata": {
    "collapsed": true
   },
   "outputs": [],
   "source": [
    "inhibited_cells = inhibited_cells[inhibited_cells.isi_stats_contam_perc < isi_contam_thresh].copy()\n",
    "excited_cells = excited_cells[excited_cells.isi_stats_contam_perc < isi_contam_thresh].copy()\n",
    "rest_cells = rest_cells[rest_cells.isi_stats_contam_perc < isi_contam_thresh].copy()"
   ]
  },
  {
   "cell_type": "markdown",
   "metadata": {},
   "source": [
    "### Calculate pearson's R between waveforms "
   ]
  },
  {
   "cell_type": "code",
   "execution_count": 17,
   "metadata": {
    "collapsed": true,
    "scrolled": true
   },
   "outputs": [],
   "source": [
    "#sns.set(font_scale=2.2,style='white')\n",
    "#\n",
    "#wf_r,wf_p = corr_wf_base_laser(excited_cells.sort_values(by='salt_i',ascending=False)[:5], 'mean_wf', 'mean_wf_laser', plotting=True)\n",
    "#labels_exc_ = []\n",
    "#labels_inhib_ = []\n",
    "#for i in range(len(excited_cells)):\n",
    "#    if wf_r[i] < pearson_r_thresh:   \n",
    "#        labels_exc_.append('not_excited')\n",
    "#        labels_inhib_.append('not_inhibited')\n",
    "#    else:\n",
    "#        labels_exc_.append(excited_cells.iloc[i].excited_)\n",
    "#        labels_inhib_.append(excited_cells.iloc[i].inhibited_)\n",
    "#excited_cells['excited_'] = labels_exc_   \n",
    "#excited_cells['inhibited_'] = labels_inhib_ "
   ]
  },
  {
   "cell_type": "code",
   "execution_count": 18,
   "metadata": {
    "collapsed": true,
    "scrolled": true
   },
   "outputs": [],
   "source": [
    "wf_r,wf_p = corr_wf_base_laser(excited_cells, 'mean_wf', 'mean_wf_laser', plotting=False)\n",
    "labels_exc_ = []\n",
    "labels_inhib_ = []\n",
    "for i in range(len(excited_cells)):\n",
    "    if wf_r[i] < pearson_r_thresh:   \n",
    "        labels_exc_.append('not_excited')\n",
    "        labels_inhib_.append('not_inhibited')\n",
    "    else:\n",
    "        labels_exc_.append(excited_cells.iloc[i].excited_)\n",
    "        labels_inhib_.append(excited_cells.iloc[i].inhibited_)\n",
    "excited_cells['excited_'] = labels_exc_   \n",
    "excited_cells['inhibited_'] = labels_inhib_   \n",
    "        \n",
    "wf_r,wf_p = corr_wf_base_laser(inhibited_cells, 'mean_wf', 'mean_wf_laser', plotting=False)\n",
    "labels_exc_ = []\n",
    "labels_inhib_ = []\n",
    "for i in range(len(inhibited_cells)):\n",
    "    if wf_r[i] < pearson_r_thresh:   \n",
    "        labels_exc_.append('not_excited')\n",
    "        labels_inhib_.append('not_inhibited')\n",
    "    else:\n",
    "        labels_exc_.append(inhibited_cells.iloc[i].excited_)\n",
    "        labels_inhib_.append(inhibited_cells.iloc[i].inhibited_)\n",
    "\n",
    "inhibited_cells['excited_'] = labels_exc_   \n",
    "inhibited_cells['inhibited_'] = labels_inhib_   "
   ]
  },
  {
   "cell_type": "code",
   "execution_count": 19,
   "metadata": {
    "collapsed": true
   },
   "outputs": [],
   "source": [
    "# Sort again - why not ... \n",
    "excited_cells.sort_values(by='salt_i',ascending=False,inplace=True)\n",
    "inhibited_cells.sort_values(by='inhib_lowest_p',ascending=True,inplace=True)"
   ]
  },
  {
   "cell_type": "code",
   "execution_count": 20,
   "metadata": {},
   "outputs": [
    {
     "data": {
      "text/plain": [
       "14"
      ]
     },
     "execution_count": 20,
     "metadata": {},
     "output_type": "execute_result"
    }
   ],
   "source": [
    "len(excited_cells)"
   ]
  },
  {
   "cell_type": "markdown",
   "metadata": {},
   "source": [
    "### Snippets of every dataframe"
   ]
  },
  {
   "cell_type": "code",
   "execution_count": 21,
   "metadata": {
    "collapsed": true
   },
   "outputs": [],
   "source": [
    "columns_to_keep = ['animal_id','n_drive_user','filename','session_ts','session_name','session_name_laser','tetrode_no','cluster_no','excited_','inhibited_']"
   ]
  },
  {
   "cell_type": "code",
   "execution_count": 22,
   "metadata": {
    "collapsed": true
   },
   "outputs": [],
   "source": [
    "# double labeled cells"
   ]
  },
  {
   "cell_type": "code",
   "execution_count": 23,
   "metadata": {},
   "outputs": [
    {
     "data": {
      "text/html": [
       "<div>\n",
       "<style>\n",
       "    .dataframe thead tr:only-child th {\n",
       "        text-align: right;\n",
       "    }\n",
       "\n",
       "    .dataframe thead th {\n",
       "        text-align: left;\n",
       "    }\n",
       "\n",
       "    .dataframe tbody tr th {\n",
       "        vertical-align: top;\n",
       "    }\n",
       "</style>\n",
       "<table border=\"1\" class=\"dataframe\">\n",
       "  <thead>\n",
       "    <tr style=\"text-align: right;\">\n",
       "      <th></th>\n",
       "      <th>animal_id</th>\n",
       "      <th>n_drive_user</th>\n",
       "      <th>filename</th>\n",
       "      <th>session_ts</th>\n",
       "      <th>session_name</th>\n",
       "      <th>session_name_laser</th>\n",
       "      <th>tetrode_no</th>\n",
       "      <th>cluster_no</th>\n",
       "      <th>excited_</th>\n",
       "      <th>inhibited_</th>\n",
       "    </tr>\n",
       "  </thead>\n",
       "  <tbody>\n",
       "  </tbody>\n",
       "</table>\n",
       "</div>"
      ],
      "text/plain": [
       "Empty DataFrame\n",
       "Columns: [animal_id, n_drive_user, filename, session_ts, session_name, session_name_laser, tetrode_no, cluster_no, excited_, inhibited_]\n",
       "Index: []"
      ]
     },
     "execution_count": 23,
     "metadata": {},
     "output_type": "execute_result"
    }
   ],
   "source": [
    "excited_cells[(excited_cells.excited_ == 'excited') & (excited_cells.inhibited_ == 'inhibited')][columns_to_keep]"
   ]
  },
  {
   "cell_type": "code",
   "execution_count": 24,
   "metadata": {},
   "outputs": [
    {
     "data": {
      "text/html": [
       "<div>\n",
       "<style>\n",
       "    .dataframe thead tr:only-child th {\n",
       "        text-align: right;\n",
       "    }\n",
       "\n",
       "    .dataframe thead th {\n",
       "        text-align: left;\n",
       "    }\n",
       "\n",
       "    .dataframe tbody tr th {\n",
       "        vertical-align: top;\n",
       "    }\n",
       "</style>\n",
       "<table border=\"1\" class=\"dataframe\">\n",
       "  <thead>\n",
       "    <tr style=\"text-align: right;\">\n",
       "      <th></th>\n",
       "      <th>animal_id</th>\n",
       "      <th>n_drive_user</th>\n",
       "      <th>filename</th>\n",
       "      <th>session_ts</th>\n",
       "      <th>session_name</th>\n",
       "      <th>session_name_laser</th>\n",
       "      <th>tetrode_no</th>\n",
       "      <th>cluster_no</th>\n",
       "      <th>excited_</th>\n",
       "      <th>inhibited_</th>\n",
       "    </tr>\n",
       "  </thead>\n",
       "  <tbody>\n",
       "  </tbody>\n",
       "</table>\n",
       "</div>"
      ],
      "text/plain": [
       "Empty DataFrame\n",
       "Columns: [animal_id, n_drive_user, filename, session_ts, session_name, session_name_laser, tetrode_no, cluster_no, excited_, inhibited_]\n",
       "Index: []"
      ]
     },
     "execution_count": 24,
     "metadata": {},
     "output_type": "execute_result"
    }
   ],
   "source": [
    "inhibited_cells[(inhibited_cells.excited_ == 'excited') & (inhibited_cells.inhibited_ == 'inhibited')][columns_to_keep]"
   ]
  },
  {
   "cell_type": "markdown",
   "metadata": {},
   "source": [
    "### Combine the dataframes into one"
   ]
  },
  {
   "cell_type": "code",
   "execution_count": 25,
   "metadata": {
    "collapsed": true
   },
   "outputs": [],
   "source": [
    "excited_cells_ = excited_cells[excited_cells.excited_ == 'excited'][columns_to_keep].copy()\n",
    "excited_cells_rest = excited_cells[excited_cells.excited_ == 'not_excited'][columns_to_keep].copy()\n",
    "\n",
    "inhibited_cells_ = inhibited_cells[inhibited_cells.inhibited_ == 'inhibited'][columns_to_keep].copy()\n",
    "inhibited_cells_rest = inhibited_cells[inhibited_cells.inhibited_ == 'not_inhibited'][columns_to_keep].copy()\n",
    "\n",
    "columns_for_drop = ['animal_id','n_drive_user','filename','session_ts','tetrode_no','cluster_no']\n",
    "excited_cells_.drop_duplicates(subset=columns_for_drop,inplace=True)\n",
    "inhibited_cells_.drop_duplicates(subset=columns_for_drop,inplace=True)"
   ]
  },
  {
   "cell_type": "code",
   "execution_count": 26,
   "metadata": {
    "collapsed": true
   },
   "outputs": [],
   "source": [
    "excited_inhibited = pd.concat([excited_cells_,inhibited_cells_],ignore_index=True)"
   ]
  },
  {
   "cell_type": "code",
   "execution_count": 27,
   "metadata": {
    "collapsed": true
   },
   "outputs": [],
   "source": [
    "# First look at the excited and inhibited cells - find double labels\n",
    "labels_ = []\n",
    "for i in range(len(excited_inhibited)):\n",
    "    if excited_inhibited.duplicated(subset=columns_for_drop,keep=False).iloc[i] == True:\n",
    "        labels_.append('both')\n",
    "    elif excited_inhibited.iloc[i].excited_ == 'excited':\n",
    "        labels_.append('excited')\n",
    "    elif excited_inhibited.iloc[i].inhibited_ == 'inhibited':\n",
    "        labels_.append('inhibited')\n",
    "    else:\n",
    "        print('wtf dude!')\n",
    "        \n",
    "excited_inhibited['label'] = labels_"
   ]
  },
  {
   "cell_type": "code",
   "execution_count": 28,
   "metadata": {
    "collapsed": true
   },
   "outputs": [],
   "source": [
    "rest_cells = rest_cells[columns_to_keep].copy()\n",
    "all_data_rest = pd.concat([rest_cells,excited_cells_rest,inhibited_cells_rest],ignore_index=True)"
   ]
  },
  {
   "cell_type": "code",
   "execution_count": 29,
   "metadata": {
    "collapsed": true
   },
   "outputs": [],
   "source": [
    "labels_ = []\n",
    "for i in range(len(all_data_rest)):\n",
    "    if all_data_rest.iloc[i].excited_ == 'not_excited':\n",
    "        labels_.append('rest')\n",
    "    elif all_data_rest.iloc[i].inhibited_ == 'not_inhibited':\n",
    "        labels_.append('rest')\n",
    "    else:\n",
    "        print('wtf dude!')\n",
    "        \n",
    "all_data_rest['label'] = labels_"
   ]
  },
  {
   "cell_type": "code",
   "execution_count": 30,
   "metadata": {
    "collapsed": true
   },
   "outputs": [],
   "source": [
    "# Concatenate all \n",
    "all_ = pd.concat([excited_inhibited,all_data_rest])"
   ]
  },
  {
   "cell_type": "code",
   "execution_count": 31,
   "metadata": {
    "collapsed": true
   },
   "outputs": [],
   "source": [
    "all_.sort_values(by='label',ascending=True,inplace=True)\n",
    "# THIS SORTING STEP IS IMPORTANT: this way, \"both\" comes first and is maintained when duplicates are dropped\n",
    "columns_for_drop = ['animal_id','n_drive_user','filename','session_ts','tetrode_no','cluster_no']\n",
    "all_ = all_.drop_duplicates(subset=columns_for_drop).copy()"
   ]
  },
  {
   "cell_type": "code",
   "execution_count": 32,
   "metadata": {},
   "outputs": [
    {
     "data": {
      "image/png": "[encoded data removed]",
      "text/plain": [
       "<matplotlib.figure.Figure at 0x26c25d47358>"
      ]
     },
     "metadata": {
      "image/png": {
       "height": 410,
       "width": 404
      }
     },
     "output_type": "display_data"
    }
   ],
   "source": [
    "sns.set(font_scale=1.8)\n",
    "labels = 'Excited', 'Inhibited', 'Both', 'Rest'\n",
    "sizes = [len(all_[all_.label == 'excited']),\\\n",
    "          len(all_[all_.label == 'inhibited']),\\\n",
    "              len(all_[all_.label == 'both']),\\\n",
    "                len(all_[all_.label == 'rest'])]\n",
    "explode = (.06,.06,0,0)  \n",
    "\n",
    "fig1, ax1 = plt.subplots(figsize=(7,7))\n",
    "ax1.pie(sizes, explode=explode, labels=labels, autopct='%1.1f%%',\n",
    "        shadow=False, startangle=75,counterclock=False,colors=[[1,.2,.4],[.2,.5,.9],[.9,.9,.9],[.7,.7,.7]])\n",
    "ax1.axis('equal') \n",
    "plt.show()"
   ]
  },
  {
   "cell_type": "markdown",
   "metadata": {},
   "source": [
    "### Drop nans (careful! these cells will not appear anymore!) "
   ]
  },
  {
   "cell_type": "markdown",
   "metadata": {},
   "source": []
  },
  {
   "cell_type": "code",
   "execution_count": null,
   "metadata": {
    "collapsed": true
   },
   "outputs": [],
   "source": []
  },
  {
   "cell_type": "code",
   "execution_count": 33,
   "metadata": {},
   "outputs": [
    {
     "name": "stdout",
     "output_type": "stream",
     "text": [
      "Summary\n",
      "Excited       4\n",
      "Inhibited     6\n",
      "Both          0\n",
      "Rest          381\n",
      "Sum           391\n"
     ]
    }
   ],
   "source": [
    "print('Summary')\n",
    "print('Excited       {}'.format(len(all_[all_.label == 'excited'])))\n",
    "print('Inhibited     {}'.format(len(all_[all_.label == 'inhibited'])))\n",
    "print('Both          {}'.format(len(all_[all_.label == 'both'])))\n",
    "print('Rest          {}'.format(len(all_[all_.label == 'rest'])))\n",
    "print('Sum           {}'.format(len(all_[all_.label == 'rest'])+len(all_[all_.label == 'excited'])+len(all_[all_.label == 'inhibited'])+len(all_[all_.label == 'both'])))"
   ]
  },
  {
   "cell_type": "markdown",
   "metadata": {},
   "source": [
    "### Rename and clean"
   ]
  },
  {
   "cell_type": "code",
   "execution_count": 34,
   "metadata": {
    "collapsed": true
   },
   "outputs": [],
   "source": [
    "all_.rename(columns={'session_name':'session_name_base','session_name_laser':'session_name'}, inplace=True)"
   ]
  },
  {
   "cell_type": "markdown",
   "metadata": {},
   "source": [
    "### SAVE!"
   ]
  },
  {
   "cell_type": "code",
   "execution_count": 35,
   "metadata": {
    "collapsed": true
   },
   "outputs": [],
   "source": [
    "all_.to_pickle('dataframe_export/layerVb.pkl')"
   ]
  },
  {
   "cell_type": "code",
   "execution_count": 36,
   "metadata": {
    "collapsed": true
   },
   "outputs": [],
   "source": [
    "vb_all=all_"
   ]
  },
  {
   "cell_type": "markdown",
   "metadata": {},
   "source": [
    "### Need to rename columns so retrieval happens on the \"base\" session, not \"laser\" session:"
   ]
  },
  {
   "cell_type": "code",
   "execution_count": 37,
   "metadata": {
    "collapsed": true
   },
   "outputs": [],
   "source": [
    "vb_all.rename(columns={'session_name':'session_name_laser','session_name_base':'session_name'}, inplace=True)"
   ]
  },
  {
   "cell_type": "markdown",
   "metadata": {},
   "source": [
    "### Define cutoffs"
   ]
  },
  {
   "cell_type": "code",
   "execution_count": 38,
   "metadata": {
    "collapsed": true
   },
   "outputs": [],
   "source": [
    "# taking the 95th percentiles for now \n",
    "grid_cutoff =  0.2980\n",
    "mvl_cutoff = 0.1713\n",
    "speed_cutoff = 0.1907\n",
    "spatial_info_cutoff = 0.8204\n",
    "border_cutoff = 0.5007\n",
    "rate_cutoff = 0.2 "
   ]
  },
  {
   "cell_type": "markdown",
   "metadata": {},
   "source": [
    "# Retrieve data (add whatever you want)"
   ]
  },
  {
   "cell_type": "code",
   "execution_count": 39,
   "metadata": {
    "scrolled": false
   },
   "outputs": [
    {
     "name": "stdout",
     "output_type": "stream",
     "text": [
      "Length of input dataframe: 391\n",
      "Dataframe not empty\n"
     ]
    },
    {
     "data": {
      "application/vnd.jupyter.widget-view+json": {
       "model_id": "b4b3f4b2ddce4ea48d09893878435ed5",
       "version_major": 2,
       "version_minor": 0
      },
      "text/html": [
       "<p>Failed to display Jupyter Widget of type <code>HBox</code>.</p>\n",
       "<p>\n",
       "  If you're reading this message in Jupyter Notebook or JupyterLab, it may mean\n",
       "  that the widgets JavaScript is still loading. If this message persists, it\n",
       "  likely means that the widgets JavaScript library is either not installed or\n",
       "  not enabled. See the <a href=\"https://ipywidgets.readthedocs.io/en/stable/user_install.html\">Jupyter\n",
       "  Widgets Documentation</a> for setup instructions.\n",
       "</p>\n",
       "<p>\n",
       "  If you're reading this message in another notebook frontend (for example, a static\n",
       "  rendering on GitHub or <a href=\"https://nbviewer.jupyter.org/\">NBViewer</a>),\n",
       "  it may mean that your frontend doesn't currently support widgets.\n",
       "</p>\n"
      ],
      "text/plain": [
       "HBox(children=(IntProgress(value=0, description='Mining tables: ', max=10), HTML(value='')))"
      ]
     },
     "metadata": {},
     "output_type": "display_data"
    },
    {
     "data": {
      "application/vnd.jupyter.widget-view+json": {
       "model_id": "61aa257fdfad4ece9001c9c01672a260",
       "version_major": 2,
       "version_minor": 0
      },
      "text/html": [
       "<p>Failed to display Jupyter Widget of type <code>HBox</code>.</p>\n",
       "<p>\n",
       "  If you're reading this message in Jupyter Notebook or JupyterLab, it may mean\n",
       "  that the widgets JavaScript is still loading. If this message persists, it\n",
       "  likely means that the widgets JavaScript library is either not installed or\n",
       "  not enabled. See the <a href=\"https://ipywidgets.readthedocs.io/en/stable/user_install.html\">Jupyter\n",
       "  Widgets Documentation</a> for setup instructions.\n",
       "</p>\n",
       "<p>\n",
       "  If you're reading this message in another notebook frontend (for example, a static\n",
       "  rendering on GitHub or <a href=\"https://nbviewer.jupyter.org/\">NBViewer</a>),\n",
       "  it may mean that your frontend doesn't currently support widgets.\n",
       "</p>\n"
      ],
      "text/plain": [
       "HBox(children=(IntProgress(value=0, description='spiketimes_tracking_tb: ', max=391), HTML(value='')))"
      ]
     },
     "metadata": {},
     "output_type": "display_data"
    },
    {
     "name": "stdout",
     "output_type": "stream",
     "text": [
      "Success. NaNs: 0\n"
     ]
    },
    {
     "data": {
      "application/vnd.jupyter.widget-view+json": {
       "model_id": "eabe9c25a402479e96b4b9c8017ac9c7",
       "version_major": 2,
       "version_minor": 0
      },
      "text/html": [
       "<p>Failed to display Jupyter Widget of type <code>HBox</code>.</p>\n",
       "<p>\n",
       "  If you're reading this message in Jupyter Notebook or JupyterLab, it may mean\n",
       "  that the widgets JavaScript is still loading. If this message persists, it\n",
       "  likely means that the widgets JavaScript library is either not installed or\n",
       "  not enabled. See the <a href=\"https://ipywidgets.readthedocs.io/en/stable/user_install.html\">Jupyter\n",
       "  Widgets Documentation</a> for setup instructions.\n",
       "</p>\n",
       "<p>\n",
       "  If you're reading this message in another notebook frontend (for example, a static\n",
       "  rendering on GitHub or <a href=\"https://nbviewer.jupyter.org/\">NBViewer</a>),\n",
       "  it may mean that your frontend doesn't currently support widgets.\n",
       "</p>\n"
      ],
      "text/plain": [
       "HBox(children=(IntProgress(value=0, description='phase_tuning_tb: ', max=391), HTML(value='')))"
      ]
     },
     "metadata": {},
     "output_type": "display_data"
    },
    {
     "name": "stdout",
     "output_type": "stream",
     "text": [
      "Success. NaNs: 0\n"
     ]
    },
    {
     "data": {
      "application/vnd.jupyter.widget-view+json": {
       "model_id": "2b26bb924d0c4dcaa92d25950fe8d2b8",
       "version_major": 2,
       "version_minor": 0
      },
      "text/html": [
       "<p>Failed to display Jupyter Widget of type <code>HBox</code>.</p>\n",
       "<p>\n",
       "  If you're reading this message in Jupyter Notebook or JupyterLab, it may mean\n",
       "  that the widgets JavaScript is still loading. If this message persists, it\n",
       "  likely means that the widgets JavaScript library is either not installed or\n",
       "  not enabled. See the <a href=\"https://ipywidgets.readthedocs.io/en/stable/user_install.html\">Jupyter\n",
       "  Widgets Documentation</a> for setup instructions.\n",
       "</p>\n",
       "<p>\n",
       "  If you're reading this message in another notebook frontend (for example, a static\n",
       "  rendering on GitHub or <a href=\"https://nbviewer.jupyter.org/\">NBViewer</a>),\n",
       "  it may mean that your frontend doesn't currently support widgets.\n",
       "</p>\n"
      ],
      "text/plain": [
       "HBox(children=(IntProgress(value=0, description='hd_tuning_tb: ', max=391), HTML(value='')))"
      ]
     },
     "metadata": {},
     "output_type": "display_data"
    },
    {
     "name": "stdout",
     "output_type": "stream",
     "text": [
      "Success. NaNs: 0\n"
     ]
    },
    {
     "data": {
      "application/vnd.jupyter.widget-view+json": {
       "model_id": "99fe4741e3d547c3a6409f1b574f4718",
       "version_major": 2,
       "version_minor": 0
      },
      "text/html": [
       "<p>Failed to display Jupyter Widget of type <code>HBox</code>.</p>\n",
       "<p>\n",
       "  If you're reading this message in Jupyter Notebook or JupyterLab, it may mean\n",
       "  that the widgets JavaScript is still loading. If this message persists, it\n",
       "  likely means that the widgets JavaScript library is either not installed or\n",
       "  not enabled. See the <a href=\"https://ipywidgets.readthedocs.io/en/stable/user_install.html\">Jupyter\n",
       "  Widgets Documentation</a> for setup instructions.\n",
       "</p>\n",
       "<p>\n",
       "  If you're reading this message in another notebook frontend (for example, a static\n",
       "  rendering on GitHub or <a href=\"https://nbviewer.jupyter.org/\">NBViewer</a>),\n",
       "  it may mean that your frontend doesn't currently support widgets.\n",
       "</p>\n"
      ],
      "text/plain": [
       "HBox(children=(IntProgress(value=0, description='waveforms_tb: ', max=391), HTML(value='')))"
      ]
     },
     "metadata": {},
     "output_type": "display_data"
    },
    {
     "name": "stdout",
     "output_type": "stream",
     "text": [
      "Success. NaNs: 0\n"
     ]
    },
    {
     "data": {
      "application/vnd.jupyter.widget-view+json": {
       "model_id": "f84e6f94f09c4c8da1190936c9d5f366",
       "version_major": 2,
       "version_minor": 0
      },
      "text/html": [
       "<p>Failed to display Jupyter Widget of type <code>HBox</code>.</p>\n",
       "<p>\n",
       "  If you're reading this message in Jupyter Notebook or JupyterLab, it may mean\n",
       "  that the widgets JavaScript is still loading. If this message persists, it\n",
       "  likely means that the widgets JavaScript library is either not installed or\n",
       "  not enabled. See the <a href=\"https://ipywidgets.readthedocs.io/en/stable/user_install.html\">Jupyter\n",
       "  Widgets Documentation</a> for setup instructions.\n",
       "</p>\n",
       "<p>\n",
       "  If you're reading this message in another notebook frontend (for example, a static\n",
       "  rendering on GitHub or <a href=\"https://nbviewer.jupyter.org/\">NBViewer</a>),\n",
       "  it may mean that your frontend doesn't currently support widgets.\n",
       "</p>\n"
      ],
      "text/plain": [
       "HBox(children=(IntProgress(value=0, description='BNT_tb_screen: ', max=391), HTML(value='')))"
      ]
     },
     "metadata": {},
     "output_type": "display_data"
    },
    {
     "name": "stdout",
     "output_type": "stream",
     "text": [
      "Success. NaNs: 166\n"
     ]
    },
    {
     "data": {
      "application/vnd.jupyter.widget-view+json": {
       "model_id": "fdc1aae3f46643adaf6c2cbe42032135",
       "version_major": 2,
       "version_minor": 0
      },
      "text/html": [
       "<p>Failed to display Jupyter Widget of type <code>HBox</code>.</p>\n",
       "<p>\n",
       "  If you're reading this message in Jupyter Notebook or JupyterLab, it may mean\n",
       "  that the widgets JavaScript is still loading. If this message persists, it\n",
       "  likely means that the widgets JavaScript library is either not installed or\n",
       "  not enabled. See the <a href=\"https://ipywidgets.readthedocs.io/en/stable/user_install.html\">Jupyter\n",
       "  Widgets Documentation</a> for setup instructions.\n",
       "</p>\n",
       "<p>\n",
       "  If you're reading this message in another notebook frontend (for example, a static\n",
       "  rendering on GitHub or <a href=\"https://nbviewer.jupyter.org/\">NBViewer</a>),\n",
       "  it may mean that your frontend doesn't currently support widgets.\n",
       "</p>\n"
      ],
      "text/plain": [
       "HBox(children=(IntProgress(value=0, description='waveforms_stats_tb: ', max=391), HTML(value='')))"
      ]
     },
     "metadata": {},
     "output_type": "display_data"
    },
    {
     "name": "stdout",
     "output_type": "stream",
     "text": [
      "Success. NaNs: 391\n"
     ]
    },
    {
     "data": {
      "application/vnd.jupyter.widget-view+json": {
       "model_id": "e67b2c50c956414a9428ca92c5f3ffce",
       "version_major": 2,
       "version_minor": 0
      },
      "text/html": [
       "<p>Failed to display Jupyter Widget of type <code>HBox</code>.</p>\n",
       "<p>\n",
       "  If you're reading this message in Jupyter Notebook or JupyterLab, it may mean\n",
       "  that the widgets JavaScript is still loading. If this message persists, it\n",
       "  likely means that the widgets JavaScript library is either not installed or\n",
       "  not enabled. See the <a href=\"https://ipywidgets.readthedocs.io/en/stable/user_install.html\">Jupyter\n",
       "  Widgets Documentation</a> for setup instructions.\n",
       "</p>\n",
       "<p>\n",
       "  If you're reading this message in another notebook frontend (for example, a static\n",
       "  rendering on GitHub or <a href=\"https://nbviewer.jupyter.org/\">NBViewer</a>),\n",
       "  it may mean that your frontend doesn't currently support widgets.\n",
       "</p>\n"
      ],
      "text/plain": [
       "HBox(children=(IntProgress(value=0, description='st_autocorr_tb: ', max=391), HTML(value='')))"
      ]
     },
     "metadata": {},
     "output_type": "display_data"
    },
    {
     "name": "stdout",
     "output_type": "stream",
     "text": [
      "Success. NaNs: 6\n"
     ]
    },
    {
     "data": {
      "application/vnd.jupyter.widget-view+json": {
       "model_id": "ac3e1e18be3149f5984f11d12ccea783",
       "version_major": 2,
       "version_minor": 0
      },
      "text/html": [
       "<p>Failed to display Jupyter Widget of type <code>HBox</code>.</p>\n",
       "<p>\n",
       "  If you're reading this message in Jupyter Notebook or JupyterLab, it may mean\n",
       "  that the widgets JavaScript is still loading. If this message persists, it\n",
       "  likely means that the widgets JavaScript library is either not installed or\n",
       "  not enabled. See the <a href=\"https://ipywidgets.readthedocs.io/en/stable/user_install.html\">Jupyter\n",
       "  Widgets Documentation</a> for setup instructions.\n",
       "</p>\n",
       "<p>\n",
       "  If you're reading this message in another notebook frontend (for example, a static\n",
       "  rendering on GitHub or <a href=\"https://nbviewer.jupyter.org/\">NBViewer</a>),\n",
       "  it may mean that your frontend doesn't currently support widgets.\n",
       "</p>\n"
      ],
      "text/plain": [
       "HBox(children=(IntProgress(value=0, description='ISI_tb: ', max=391), HTML(value='')))"
      ]
     },
     "metadata": {},
     "output_type": "display_data"
    },
    {
     "name": "stdout",
     "output_type": "stream",
     "text": [
      "Success. NaNs: 0\n",
      "Table dictionary is empty for this entry. Taking all columns!\n",
      "Included the following columns: ('analysis_ts', 'filename', 'analysis_window', 'salt_window', 'sample_rate', 'sample_rate_inp', 'ibi', 'stim_freq', 'stim_length', 'counter_stimuli', 'excited', 'salt_p', 'salt_i', 'ex_latency_mean', 'ex_latency_median', 'ex_latency_var', 'ex_latency_reliabil', 'stats_p_inhib_10', 'stats_p_inhib_20', 'stats_p_inhib_30', 'stats_p_inhib_40', 'inhibited', 'inhib_lowest_p', 'inhib_lowest_p_interval', 'change_point_ms')\n",
      "Column filename already exists. Skipping.\n"
     ]
    },
    {
     "data": {
      "application/vnd.jupyter.widget-view+json": {
       "model_id": "e32ae8257e154bab9845532adf98b1e9",
       "version_major": 2,
       "version_minor": 0
      },
      "text/html": [
       "<p>Failed to display Jupyter Widget of type <code>HBox</code>.</p>\n",
       "<p>\n",
       "  If you're reading this message in Jupyter Notebook or JupyterLab, it may mean\n",
       "  that the widgets JavaScript is still loading. If this message persists, it\n",
       "  likely means that the widgets JavaScript library is either not installed or\n",
       "  not enabled. See the <a href=\"https://ipywidgets.readthedocs.io/en/stable/user_install.html\">Jupyter\n",
       "  Widgets Documentation</a> for setup instructions.\n",
       "</p>\n",
       "<p>\n",
       "  If you're reading this message in another notebook frontend (for example, a static\n",
       "  rendering on GitHub or <a href=\"https://nbviewer.jupyter.org/\">NBViewer</a>),\n",
       "  it may mean that your frontend doesn't currently support widgets.\n",
       "</p>\n"
      ],
      "text/plain": [
       "HBox(children=(IntProgress(value=0, description='stimulus_tb: ', max=391), HTML(value='')))"
      ]
     },
     "metadata": {},
     "output_type": "display_data"
    },
    {
     "name": "stdout",
     "output_type": "stream",
     "text": [
      "Success. NaNs: 391\n",
      "Table dictionary is empty for this entry. Taking all columns!\n",
      "Included the following columns: ('analysis_ts', 'filename', 'sample_rate', 'sample_rate_inp', 'analysis_window', 'counter_stimuli', 'spiketimes_cluster', 'stimulus_timepoints', 'sum_1ms', 'bin_edges_1ms', 'binnumber_1ms')\n",
      "Column analysis_ts already exists. Skipping.\n",
      "Column filename already exists. Skipping.\n",
      "Column sample_rate already exists. Skipping.\n",
      "Column sample_rate_inp already exists. Skipping.\n",
      "Column analysis_window already exists. Skipping.\n",
      "Column counter_stimuli already exists. Skipping.\n"
     ]
    },
    {
     "data": {
      "application/vnd.jupyter.widget-view+json": {
       "model_id": "7200bad1f90646d1ba9534f3c8f8e941",
       "version_major": 2,
       "version_minor": 0
      },
      "text/html": [
       "<p>Failed to display Jupyter Widget of type <code>HBox</code>.</p>\n",
       "<p>\n",
       "  If you're reading this message in Jupyter Notebook or JupyterLab, it may mean\n",
       "  that the widgets JavaScript is still loading. If this message persists, it\n",
       "  likely means that the widgets JavaScript library is either not installed or\n",
       "  not enabled. See the <a href=\"https://ipywidgets.readthedocs.io/en/stable/user_install.html\">Jupyter\n",
       "  Widgets Documentation</a> for setup instructions.\n",
       "</p>\n",
       "<p>\n",
       "  If you're reading this message in another notebook frontend (for example, a static\n",
       "  rendering on GitHub or <a href=\"https://nbviewer.jupyter.org/\">NBViewer</a>),\n",
       "  it may mean that your frontend doesn't currently support widgets.\n",
       "</p>\n"
      ],
      "text/plain": [
       "HBox(children=(IntProgress(value=0, description='stimulus_mat_tb: ', max=391), HTML(value='')))"
      ]
     },
     "metadata": {},
     "output_type": "display_data"
    },
    {
     "name": "stdout",
     "output_type": "stream",
     "text": [
      "Success. NaNs: 391\n",
      "\n"
     ]
    }
   ],
   "source": [
    "psql = psql_neuroballs(vb_all) # initialize retrieval\n",
    "dict_ = {'spiketimes_tracking_tb': ('mean_freq',),\\\n",
    "         'phase_tuning_tb': ('bins_angle_center_phase', 'hist_angle_smooth_phase', 'phase_stats_MVL', 'phase_stats_mean', 'phase_stats_var', 'rayleigh_p', 'spike_trig_lfp'),\\\n",
    "         'hd_tuning_tb': ('bins_angle_center', 'hist_angle_smooth', 'tc_stats_MVL', 'tc_stats_mean', 'tc_stats_var'), \\\n",
    "         'waveforms_tb': ('mean_wf', 'std_wf', 'maxima_wf'), \\\n",
    "         'BNT_tb_screen': ('InformationContent_bnt', 'tc_stats_hd_peakrate_bnt', 'tc_stats_mean_direction_bnt', 'peak_rate_bnt', 'gridstats_spacing_bnt', 'borderscore_bnt', 'angular_stability_bnt','InformationRate_bnt', 'speedscore_bnt', 'tc_stats_peakdirection_bnt', 'tc_stats_mvl_bnt', 'coherence_bnt', 'grid_score_bnt', 'sparsity_bnt', 'theta_strength_bnt', 'selectivity_bnt', 'mean_rate_bnt', 'theta_mean_phase_bnt', 'hist_angle_smooth_bnt', 'bins_angle_center_bnt','calbindin_bnt','calbindin_dist_bnt'),\\\n",
    "         'waveforms_stats_tb': ('artefact', 'idx_max_wf', 'idx_min_wf', 'swidth'),\\\n",
    "         'st_autocorr_tb':('burst_idx2',),\\\n",
    "         'ISI_tb':('isi_stats_percent_bursts'),\\\n",
    "         'stimulus_tb':'',\\\n",
    "         'stimulus_mat_tb':''}\n",
    "         \n",
    "filter_ = \"NOT LIKE '%obj%' AND session_name NOT LIKE '%stab%' AND session_name NOT LIKE '%rest%' AND session_name NOT LIKE '%room%' AND session_name NOT LIKE '%bord%'\"\n",
    "\n",
    "vb_all = psql.retrieve_data(user_sql_tables=dict_,user_sql_filter=filter_)"
   ]
  },
  {
   "cell_type": "markdown",
   "metadata": {},
   "source": [
    "# Notebook 1 for reproducing the figures and analysis related to figure 3 in Rowland et alXXX\n",
    "Executing this notebook will reproduce the images in figure 3 of our paper and run the corresponding statistical tests described in the text.  "
   ]
  },
  {
   "cell_type": "code",
   "execution_count": 40,
   "metadata": {},
   "outputs": [
    {
     "data": {
      "text/plain": [
       "Index(['animal_id', 'n_drive_user', 'filename', 'session_ts', 'session_name',\n",
       "       'session_name_laser', 'tetrode_no', 'cluster_no', 'excited_',\n",
       "       'inhibited_', 'label', 'mean_freq', 'bins_angle_center_phase',\n",
       "       'hist_angle_smooth_phase', 'phase_stats_mvl', 'phase_stats_mean',\n",
       "       'phase_stats_var', 'rayleigh_p', 'spike_trig_lfp', 'bins_angle_center',\n",
       "       'hist_angle_smooth', 'tc_stats_mvl', 'tc_stats_mean', 'tc_stats_var',\n",
       "       'mean_wf', 'std_wf', 'maxima_wf', 'informationcontent_bnt',\n",
       "       'tc_stats_hd_peakrate_bnt', 'tc_stats_mean_direction_bnt',\n",
       "       'peak_rate_bnt', 'gridstats_spacing_bnt', 'borderscore_bnt',\n",
       "       'angular_stability_bnt', 'informationrate_bnt', 'speedscore_bnt',\n",
       "       'tc_stats_peakdirection_bnt', 'tc_stats_mvl_bnt', 'coherence_bnt',\n",
       "       'grid_score_bnt', 'sparsity_bnt', 'theta_strength_bnt',\n",
       "       'selectivity_bnt', 'mean_rate_bnt', 'theta_mean_phase_bnt',\n",
       "       'hist_angle_smooth_bnt', 'bins_angle_center_bnt', 'calbindin_bnt',\n",
       "       'calbindin_dist_bnt', 'artefact', 'idx_max_wf', 'idx_min_wf', 'swidth',\n",
       "       'burst_idx2', 'isi_stats_percent_bursts', 'analysis_ts',\n",
       "       'analysis_window', 'salt_window', 'sample_rate', 'sample_rate_inp',\n",
       "       'ibi', 'stim_freq', 'stim_length', 'counter_stimuli', 'excited',\n",
       "       'salt_p', 'salt_i', 'ex_latency_mean', 'ex_latency_median',\n",
       "       'ex_latency_var', 'ex_latency_reliabil', 'stats_p_inhib_10',\n",
       "       'stats_p_inhib_20', 'stats_p_inhib_30', 'stats_p_inhib_40', 'inhibited',\n",
       "       'inhib_lowest_p', 'inhib_lowest_p_interval', 'change_point_ms',\n",
       "       'spiketimes_cluster', 'stimulus_timepoints', 'sum_1ms', 'bin_edges_1ms',\n",
       "       'binnumber_1ms'],\n",
       "      dtype='object')"
      ]
     },
     "execution_count": 40,
     "metadata": {},
     "output_type": "execute_result"
    }
   ],
   "source": [
    "vb_all.columns"
   ]
  },
  {
   "cell_type": "code",
   "execution_count": 41,
   "metadata": {},
   "outputs": [
    {
     "data": {
      "text/plain": [
       "array(['excited', 'inhibited', 'rest'], dtype=object)"
      ]
     },
     "execution_count": 41,
     "metadata": {},
     "output_type": "execute_result"
    }
   ],
   "source": [
    "vb_all.label.unique()"
   ]
  },
  {
   "cell_type": "markdown",
   "metadata": {},
   "source": [
    "## Get total number of tagged cells\n",
    "This will retrieve all the cells that were tagged in the dataset (see text for criteria)"
   ]
  },
  {
   "cell_type": "code",
   "execution_count": 42,
   "metadata": {
    "collapsed": true
   },
   "outputs": [],
   "source": [
    "cells = vb_all[(vb_all.label == 'excited')].copy()\n",
    "inhib_cells = vb_all[(vb_all.label == 'inhibited')].copy()\n",
    "label = 'Tagged Vb\\nn={}'.format(len(cells))"
   ]
  },
  {
   "cell_type": "code",
   "execution_count": 43,
   "metadata": {},
   "outputs": [
    {
     "name": "stdout",
     "output_type": "stream",
     "text": [
      "There are 391 in this filtered dataframe. Label: Tagged Vb\n",
      "n=4\n"
     ]
    }
   ],
   "source": [
    "print('There are {} in this filtered dataframe. Label: {}'.format(len(vb_all),label))"
   ]
  },
  {
   "cell_type": "markdown",
   "metadata": {},
   "source": [
    "## Draw stacked bar chart\n",
    "The following sections draw the stacked bar charts used in Figure 3, first for the tagged cells and then for the remaining cells. The bar charts have a dark color for cells that fall into one category (\"pure\") and a lighter color for cells that fall into multiple categories (\"mix\"). The percentages above the bars give the total number. Note that all \"mix\" cells are counted in at least 2 categories and therefore the percentages will not sum to 100%. We prefered this represenation of the data to a pie chart (or similar) with different slices for all possible conjunctions (grid x HD, speed X border etc.) because the number of possible combinations is large and makes for a complicated figure."
   ]
  },
  {
   "cell_type": "code",
   "execution_count": 44,
   "metadata": {
    "collapsed": true
   },
   "outputs": [],
   "source": [
    "gridc = cells[cells.grid_score_bnt > grid_cutoff]\n",
    "hdc = cells[(cells.tc_stats_mvl_bnt > mvl_cutoff)]#note additional criteria for stability\n",
    "speedc = cells[cells.speedscore_bnt > speed_cutoff]\n",
    "borderc = cells[cells.borderscore_bnt > border_cutoff]\n",
    "\n",
    "unclas = cells[(cells.grid_score_bnt <= grid_cutoff) &\\\n",
    "               (cells.tc_stats_mvl_bnt <= mvl_cutoff) &\\\n",
    "               (cells.speedscore_bnt <= speed_cutoff) &\\\n",
    "               (cells.borderscore_bnt <= border_cutoff)]"
   ]
  },
  {
   "cell_type": "code",
   "execution_count": 45,
   "metadata": {
    "collapsed": true
   },
   "outputs": [],
   "source": [
    "# find all the class labels for \"pure cells\" by\n",
    "# finding non-overlap within indices of other cell classes\n",
    "\n",
    "pure_gridc = gridc[(~gridc.index.isin(hdc.index)) & (~gridc.index.isin(speedc.index)) & (~gridc.index.isin(borderc.index))]\n",
    "pure_hdc = hdc[(~hdc.index.isin(gridc.index)) & (~hdc.index.isin(speedc.index)) & (~hdc.index.isin(borderc.index))]\n",
    "pure_borderc = borderc[(~borderc.index.isin(gridc.index)) & (~borderc.index.isin(speedc.index)) & (~borderc.index.isin(hdc.index))]\n",
    "pure_speedc = speedc[(~speedc.index.isin(gridc.index)) & (~speedc.index.isin(borderc.index)) & (~speedc.index.isin(hdc.index))]"
   ]
  },
  {
   "cell_type": "code",
   "execution_count": 46,
   "metadata": {
    "collapsed": true
   },
   "outputs": [],
   "source": [
    "all_len = len(cells)\n",
    "# Grid\n",
    "grid_len = len(gridc)\n",
    "frac_grid = grid_len/all_len\n",
    "pure_grid_len = len(pure_gridc)\n",
    "mix_grid_len = grid_len-pure_grid_len\n",
    "\n",
    "# HD\n",
    "hd_len = len(hdc)\n",
    "frac_hd = hd_len/all_len\n",
    "pure_hd_len = len(pure_hdc)\n",
    "mix_hd_len = hd_len-pure_hd_len\n",
    "\n",
    "# Speed\n",
    "speed_len = len(speedc)\n",
    "frac_speed = speed_len/all_len\n",
    "pure_speed_len = len(pure_speedc)\n",
    "mix_speed_len = speed_len-pure_speed_len\n",
    "\n",
    "# Border\n",
    "border_len = len(borderc)\n",
    "frac_border = border_len/all_len\n",
    "pure_border_len = len(pure_borderc)\n",
    "mix_border_len = border_len-pure_border_len\n",
    "\n",
    "# Rest\n",
    "unstable_HD = cells[(cells.tc_stats_mvl_bnt > mvl_cutoff)&(cells.angular_stability_bnt <= 0.6)]#must also add unstable head direction cells\n",
    "unclas_len = len(unclas)+len(unstable_HD)\n",
    "frac_unclas = unclas_len/all_len\n"
   ]
  },
  {
   "cell_type": "code",
   "execution_count": 47,
   "metadata": {},
   "outputs": [
    {
     "data": {
      "image/png": "[encoded data removed]",
      "text/plain": [
       "<matplotlib.figure.Figure at 0x26c24a20be0>"
      ]
     },
     "metadata": {
      "image/png": {
       "height": 463,
       "width": 293
      }
     },
     "output_type": "display_data"
    },
    {
     "name": "stdout",
     "output_type": "stream",
     "text": [
      "(0.0, 0.0, 0.25, 0.0, 0.25)\n"
     ]
    }
   ],
   "source": [
    "# grid, hd, speed, border, unclassified\n",
    "from palettable.cartocolors.sequential import DarkMint_4,Peach_6,RedOr_6,Teal_6\n",
    "#colors = RedOr_6.get_mpl_colormap()\n",
    "\n",
    "seq_col_brew = sns.color_palette(sns.light_palette(\"cyan\",5))\n",
    "sns.set_palette(seq_col_brew)\n",
    "#sns.set(font_scale=1.4,style='white')\n",
    "plt.figure(figsize=(5,7))\n",
    "\n",
    "\n",
    "N = 5\n",
    "pure = (pure_grid_len/all_len, pure_hd_len/all_len, pure_speed_len/all_len, pure_border_len/all_len, unclas_len/all_len)\n",
    "mix = (mix_grid_len/all_len, mix_hd_len/all_len, mix_speed_len/all_len, mix_border_len/all_len,0)\n",
    "\n",
    "rest = ((all_len-(pure_grid_len+mix_grid_len))/all_len,\\\n",
    "        (all_len-(pure_hd_len+mix_hd_len))/all_len,\\\n",
    "        (all_len-(pure_speed_len+mix_speed_len))/all_len,\\\n",
    "        (all_len-(pure_border_len+mix_border_len))/all_len,\\\n",
    "        (all_len-unclas_len)/all_len)\n",
    "\n",
    "ind = np.arange(N)    # the x locations for the groups\n",
    "width = 0.87       # the width of the bars: can also be len(x) sequence\n",
    "\n",
    "p1 = plt.bar(ind, pure, width, color=seq_col_brew[4])\n",
    "p2 = plt.bar(ind, mix, width, color=seq_col_brew[0], bottom=pure)\n",
    "p3 = plt.bar(ind, rest,width,color=plt.cm.Greys(0.2),bottom=[x+y for x,y in zip(pure,mix)])\n",
    "\n",
    "labels = [frac_grid,frac_hd,frac_speed,frac_border,frac_unclas]\n",
    "for i in ind:\n",
    "    # write label:\n",
    "    plt.text(i,labels[i]+.05,'{:.1f}%'.format(labels[i]*100),horizontalalignment='center')\n",
    "\n",
    "#plt.ylabel('Fraction')\n",
    "plt.xticks(ind, ('Grid', 'HD', 'Speed', 'Border','Unclas'))\n",
    "plt.gca().get_yaxis().set_ticks([])\n",
    "\n",
    "plt.legend((p1[0], p2[0]), ('Pure', 'Mix'))\n",
    "plt.ylim(0,1)\n",
    "plt.title(label)\n",
    "sns.despine(left=True,bottom=True)\n",
    "plt.rcParams['svg.fonttype'] = 'none'\n",
    "#plt.savefig(r'N:\\davidcr\\stellate paper images\\python output\\tagged_stacked_bar.svg', format='svg', dpi=1000)\n",
    "plt.show()\n",
    "print(pure)"
   ]
  },
  {
   "cell_type": "markdown",
   "metadata": {},
   "source": [
    "## Now make the same stacked bar but for all other cells"
   ]
  },
  {
   "cell_type": "code",
   "execution_count": 48,
   "metadata": {
    "collapsed": true
   },
   "outputs": [],
   "source": [
    "non_tagged_cells = vb_all[(vb_all.label != 'excited')].copy()# retrieves all cells that were not tagged\n",
    "\n",
    "label = 'untagged \\nn={}'.format(len(non_tagged_cells))#and labels them"
   ]
  },
  {
   "cell_type": "code",
   "execution_count": 49,
   "metadata": {},
   "outputs": [
    {
     "name": "stdout",
     "output_type": "stream",
     "text": [
      "There are 387 in this filtered dataframe. Label: untagged \n",
      "n=387\n"
     ]
    }
   ],
   "source": [
    "print('There are {} in this filtered dataframe. Label: {}'.format(len(non_tagged_cells),label))"
   ]
  },
  {
   "cell_type": "code",
   "execution_count": 50,
   "metadata": {
    "collapsed": true
   },
   "outputs": [],
   "source": [
    "gridc = non_tagged_cells[non_tagged_cells.grid_score_bnt > grid_cutoff]\n",
    "hdc = non_tagged_cells[(non_tagged_cells.tc_stats_mvl_bnt > mvl_cutoff)]# plus stability\n",
    "speedc = non_tagged_cells[non_tagged_cells.speedscore_bnt > speed_cutoff]\n",
    "borderc = non_tagged_cells[non_tagged_cells.borderscore_bnt > border_cutoff]\n",
    "\n",
    "unclas = non_tagged_cells[(non_tagged_cells.grid_score_bnt <= grid_cutoff) &\\\n",
    "               (non_tagged_cells.tc_stats_mvl_bnt <= mvl_cutoff) &\\\n",
    "               (non_tagged_cells.speedscore_bnt <= speed_cutoff) &\\\n",
    "               (non_tagged_cells.borderscore_bnt <= border_cutoff)]"
   ]
  },
  {
   "cell_type": "code",
   "execution_count": 51,
   "metadata": {
    "collapsed": true
   },
   "outputs": [],
   "source": [
    "pure_gridc = gridc[(~gridc.index.isin(hdc.index)) & (~gridc.index.isin(speedc.index)) & (~gridc.index.isin(borderc.index))]\n",
    "pure_hdc = hdc[(~hdc.index.isin(gridc.index)) & (~hdc.index.isin(speedc.index)) & (~hdc.index.isin(borderc.index))]\n",
    "pure_borderc = borderc[(~borderc.index.isin(gridc.index)) & (~borderc.index.isin(speedc.index)) & (~borderc.index.isin(hdc.index))]\n",
    "pure_speedc = speedc[(~speedc.index.isin(gridc.index)) & (~speedc.index.isin(borderc.index)) & (~speedc.index.isin(hdc.index))]"
   ]
  },
  {
   "cell_type": "code",
   "execution_count": 52,
   "metadata": {
    "collapsed": true
   },
   "outputs": [],
   "source": [
    "all_len = len(non_tagged_cells)\n",
    "# Grid\n",
    "grid_len = len(gridc)\n",
    "frac_grid = grid_len/all_len\n",
    "pure_grid_len = len(pure_gridc)\n",
    "mix_grid_len = grid_len-pure_grid_len\n",
    "\n",
    "# HD\n",
    "hd_len = len(hdc)\n",
    "frac_hd = hd_len/all_len\n",
    "pure_hd_len = len(pure_hdc)\n",
    "mix_hd_len = hd_len-pure_hd_len\n",
    "\n",
    "# Speed\n",
    "speed_len = len(speedc)\n",
    "frac_speed = speed_len/all_len\n",
    "pure_speed_len = len(pure_speedc)\n",
    "mix_speed_len = speed_len-pure_speed_len\n",
    "\n",
    "# Border\n",
    "border_len = len(borderc)\n",
    "frac_border = border_len/all_len\n",
    "pure_border_len = len(pure_borderc)\n",
    "mix_border_len = border_len-pure_border_len\n",
    "\n",
    "# Rest\n",
    "unstable_HD = cells[(cells.tc_stats_mvl_bnt > mvl_cutoff)&(cells.angular_stability_bnt <= 0.6)]#must also add unstable head direction cells\n",
    "unclas_len = len(unclas)+len(unstable_HD)\n",
    "frac_unclas = unclas_len/all_len"
   ]
  },
  {
   "cell_type": "code",
   "execution_count": 53,
   "metadata": {},
   "outputs": [
    {
     "data": {
      "image/png": "[encoded data removed]",
      "text/plain": [
       "<matplotlib.figure.Figure at 0x26c25cc73c8>"
      ]
     },
     "metadata": {
      "image/png": {
       "height": 450,
       "width": 293
      }
     },
     "output_type": "display_data"
    },
    {
     "name": "stdout",
     "output_type": "stream",
     "text": [
      "(0.03359173126614987, 0.15762273901808785, 0.05426356589147287, 0.0103359173126615, 0.23772609819121446)\n"
     ]
    }
   ],
   "source": [
    "# grid, hd, speed, border, unclassified\n",
    "from palettable.cartocolors.sequential import DarkMint_4,Peach_6,RedOr_6,Teal_6\n",
    "#colors = RedOr_6.get_mpl_colormap()\n",
    "colors = cm.Greys\n",
    "\n",
    "sns.set(font_scale=1.4,style='white')\n",
    "plt.figure(figsize=(5,7))\n",
    "\n",
    "\n",
    "N = 5\n",
    "pure = (pure_grid_len/all_len, pure_hd_len/all_len, pure_speed_len/all_len, pure_border_len/all_len, unclas_len/all_len)\n",
    "mix = (mix_grid_len/all_len, mix_hd_len/all_len, mix_speed_len/all_len, mix_border_len/all_len,0)\n",
    "\n",
    "rest = ((all_len-(pure_grid_len+mix_grid_len))/all_len,\\\n",
    "        (all_len-(pure_hd_len+mix_hd_len))/all_len,\\\n",
    "        (all_len-(pure_speed_len+mix_speed_len))/all_len,\\\n",
    "        (all_len-(pure_border_len+mix_border_len))/all_len,\\\n",
    "        (all_len-unclas_len)/all_len)\n",
    "\n",
    "ind = np.arange(N)    # the x locations for the groups\n",
    "width = 0.87       # the width of the bars: can also be len(x) sequence\n",
    "\n",
    "p1 = plt.bar(ind, pure, width, color=colors(0.9))\n",
    "p2 = plt.bar(ind, mix, width, color=colors(0.6), bottom=pure)\n",
    "p3 = plt.bar(ind, rest,width,color=plt.cm.Greys(0.2),bottom=[x+y for x,y in zip(pure,mix)])\n",
    "\n",
    "labels = [frac_grid,frac_hd,frac_speed,frac_border,frac_unclas]\n",
    "for i in ind:\n",
    "    # write label:\n",
    "    plt.text(i,labels[i]+.05,'{:.1f}%'.format(labels[i]*100),horizontalalignment='center')\n",
    "\n",
    "#plt.ylabel('Fraction')\n",
    "plt.xticks(ind, ('Grid', 'HD', 'Speed', 'Border','Unclas'))\n",
    "plt.gca().get_yaxis().set_ticks([])\n",
    "\n",
    "plt.legend((p1[0], p2[0]), ('Pure', 'Mix'))\n",
    "plt.ylim(0,1)\n",
    "plt.title(label)\n",
    "sns.despine(left=True,bottom=True)\n",
    "plt.rcParams['svg.fonttype'] = 'none'\n",
    "#plt.savefig(r'N:\\davidcr\\stellate paper images\\python output\\untagged_stacked_bar.svg', format='svg', dpi=1000)\n",
    "plt.show()\n",
    "print(pure)"
   ]
  },
  {
   "cell_type": "markdown",
   "metadata": {},
   "source": [
    "## Compare scores between tagged and untagged populations\n",
    "The following section will compare the functional properties between tagged and untagged cells.The code is essentially repeated for each variable. The only change is what is being ploted/compared. \n"
   ]
  },
  {
   "cell_type": "markdown",
   "metadata": {},
   "source": [
    "### Look at waveform stats"
   ]
  },
  {
   "cell_type": "code",
   "execution_count": 54,
   "metadata": {},
   "outputs": [
    {
     "ename": "ValueError",
     "evalue": "Must pass DataFrame with boolean values only",
     "output_type": "error",
     "traceback": [
      "\u001b[1;31m---------------------------------------------------------------------------\u001b[0m",
      "\u001b[1;31mValueError\u001b[0m                                Traceback (most recent call last)",
      "\u001b[1;32m<ipython-input-54-c67b3f12e6fa>\u001b[0m in \u001b[0;36m<module>\u001b[1;34m()\u001b[0m\n\u001b[1;32m----> 1\u001b[1;33m \u001b[0mplt\u001b[0m\u001b[1;33m.\u001b[0m\u001b[0mhist\u001b[0m\u001b[1;33m(\u001b[0m\u001b[0mvb_all\u001b[0m\u001b[1;33m[\u001b[0m\u001b[0mvb_all\u001b[0m\u001b[1;33m]\u001b[0m\u001b[1;33m.\u001b[0m\u001b[0mswidth\u001b[0m\u001b[1;33m,\u001b[0m\u001b[1;36m60\u001b[0m\u001b[1;33m,\u001b[0m\u001b[0mcolor\u001b[0m\u001b[1;33m=\u001b[0m\u001b[1;34m'k'\u001b[0m\u001b[1;33m,\u001b[0m\u001b[0mlabel\u001b[0m\u001b[1;33m=\u001b[0m\u001b[1;34m'vb_all'\u001b[0m\u001b[1;33m,\u001b[0m\u001b[0malpha\u001b[0m\u001b[1;33m=\u001b[0m\u001b[1;36m0.8\u001b[0m\u001b[1;33m)\u001b[0m\u001b[1;33m;\u001b[0m\u001b[1;33m\u001b[0m\u001b[0m\n\u001b[0m\u001b[0;32m      2\u001b[0m \u001b[0mplt\u001b[0m\u001b[1;33m.\u001b[0m\u001b[0mhist\u001b[0m\u001b[1;33m(\u001b[0m\u001b[0mcells\u001b[0m\u001b[1;33m[\u001b[0m\u001b[0mcells\u001b[0m\u001b[1;33m.\u001b[0m\u001b[0martefact\u001b[0m\u001b[1;33m==\u001b[0m\u001b[1;36m0\u001b[0m\u001b[1;33m]\u001b[0m\u001b[1;33m.\u001b[0m\u001b[0mswidth\u001b[0m\u001b[1;33m,\u001b[0m\u001b[1;36m60\u001b[0m\u001b[1;33m,\u001b[0m\u001b[0mcolor\u001b[0m\u001b[1;33m=\u001b[0m\u001b[1;34m'cyan'\u001b[0m\u001b[1;33m,\u001b[0m\u001b[0mlabel\u001b[0m\u001b[1;33m=\u001b[0m\u001b[1;34m'tagged'\u001b[0m\u001b[1;33m)\u001b[0m\u001b[1;33m;\u001b[0m\u001b[1;33m\u001b[0m\u001b[0m\n\u001b[0;32m      3\u001b[0m \u001b[0msns\u001b[0m\u001b[1;33m.\u001b[0m\u001b[0mdespine\u001b[0m\u001b[1;33m(\u001b[0m\u001b[0mleft\u001b[0m\u001b[1;33m=\u001b[0m\u001b[1;32mTrue\u001b[0m\u001b[1;33m,\u001b[0m\u001b[0mbottom\u001b[0m\u001b[1;33m=\u001b[0m\u001b[1;32mTrue\u001b[0m\u001b[1;33m)\u001b[0m\u001b[1;33m\u001b[0m\u001b[0m\n\u001b[0;32m      4\u001b[0m \u001b[0mplt\u001b[0m\u001b[1;33m.\u001b[0m\u001b[0mxlabel\u001b[0m\u001b[1;33m(\u001b[0m\u001b[1;34m'Spike width [ms]'\u001b[0m\u001b[1;33m)\u001b[0m\u001b[1;33m\u001b[0m\u001b[0m\n\u001b[0;32m      5\u001b[0m \u001b[0mplt\u001b[0m\u001b[1;33m.\u001b[0m\u001b[0mtitle\u001b[0m\u001b[1;33m(\u001b[0m\u001b[1;34m'Spike width arch'\u001b[0m\u001b[1;33m)\u001b[0m\u001b[1;33m\u001b[0m\u001b[0m\n",
      "\u001b[1;32m~\\AppData\\Local\\Continuum\\Miniconda2\\envs\\ms\\lib\\site-packages\\pandas\\core\\frame.py\u001b[0m in \u001b[0;36m__getitem__\u001b[1;34m(self, key)\u001b[0m\n\u001b[0;32m   1958\u001b[0m             \u001b[1;32mreturn\u001b[0m \u001b[0mself\u001b[0m\u001b[1;33m.\u001b[0m\u001b[0m_getitem_array\u001b[0m\u001b[1;33m(\u001b[0m\u001b[0mkey\u001b[0m\u001b[1;33m)\u001b[0m\u001b[1;33m\u001b[0m\u001b[0m\n\u001b[0;32m   1959\u001b[0m         \u001b[1;32melif\u001b[0m \u001b[0misinstance\u001b[0m\u001b[1;33m(\u001b[0m\u001b[0mkey\u001b[0m\u001b[1;33m,\u001b[0m \u001b[0mDataFrame\u001b[0m\u001b[1;33m)\u001b[0m\u001b[1;33m:\u001b[0m\u001b[1;33m\u001b[0m\u001b[0m\n\u001b[1;32m-> 1960\u001b[1;33m             \u001b[1;32mreturn\u001b[0m \u001b[0mself\u001b[0m\u001b[1;33m.\u001b[0m\u001b[0m_getitem_frame\u001b[0m\u001b[1;33m(\u001b[0m\u001b[0mkey\u001b[0m\u001b[1;33m)\u001b[0m\u001b[1;33m\u001b[0m\u001b[0m\n\u001b[0m\u001b[0;32m   1961\u001b[0m         \u001b[1;32melif\u001b[0m \u001b[0mis_mi_columns\u001b[0m\u001b[1;33m:\u001b[0m\u001b[1;33m\u001b[0m\u001b[0m\n\u001b[0;32m   1962\u001b[0m             \u001b[1;32mreturn\u001b[0m \u001b[0mself\u001b[0m\u001b[1;33m.\u001b[0m\u001b[0m_getitem_multilevel\u001b[0m\u001b[1;33m(\u001b[0m\u001b[0mkey\u001b[0m\u001b[1;33m)\u001b[0m\u001b[1;33m\u001b[0m\u001b[0m\n",
      "\u001b[1;32m~\\AppData\\Local\\Continuum\\Miniconda2\\envs\\ms\\lib\\site-packages\\pandas\\core\\frame.py\u001b[0m in \u001b[0;36m_getitem_frame\u001b[1;34m(self, key)\u001b[0m\n\u001b[0;32m   2033\u001b[0m     \u001b[1;32mdef\u001b[0m \u001b[0m_getitem_frame\u001b[0m\u001b[1;33m(\u001b[0m\u001b[0mself\u001b[0m\u001b[1;33m,\u001b[0m \u001b[0mkey\u001b[0m\u001b[1;33m)\u001b[0m\u001b[1;33m:\u001b[0m\u001b[1;33m\u001b[0m\u001b[0m\n\u001b[0;32m   2034\u001b[0m         \u001b[1;32mif\u001b[0m \u001b[0mkey\u001b[0m\u001b[1;33m.\u001b[0m\u001b[0mvalues\u001b[0m\u001b[1;33m.\u001b[0m\u001b[0msize\u001b[0m \u001b[1;32mand\u001b[0m \u001b[1;32mnot\u001b[0m \u001b[0mis_bool_dtype\u001b[0m\u001b[1;33m(\u001b[0m\u001b[0mkey\u001b[0m\u001b[1;33m.\u001b[0m\u001b[0mvalues\u001b[0m\u001b[1;33m)\u001b[0m\u001b[1;33m:\u001b[0m\u001b[1;33m\u001b[0m\u001b[0m\n\u001b[1;32m-> 2035\u001b[1;33m             \u001b[1;32mraise\u001b[0m \u001b[0mValueError\u001b[0m\u001b[1;33m(\u001b[0m\u001b[1;34m'Must pass DataFrame with boolean values only'\u001b[0m\u001b[1;33m)\u001b[0m\u001b[1;33m\u001b[0m\u001b[0m\n\u001b[0m\u001b[0;32m   2036\u001b[0m         \u001b[1;32mreturn\u001b[0m \u001b[0mself\u001b[0m\u001b[1;33m.\u001b[0m\u001b[0mwhere\u001b[0m\u001b[1;33m(\u001b[0m\u001b[0mkey\u001b[0m\u001b[1;33m)\u001b[0m\u001b[1;33m\u001b[0m\u001b[0m\n\u001b[0;32m   2037\u001b[0m \u001b[1;33m\u001b[0m\u001b[0m\n",
      "\u001b[1;31mValueError\u001b[0m: Must pass DataFrame with boolean values only"
     ]
    }
   ],
   "source": [
    "plt.hist(vb_all[vb_all].swidth,60,color='k',label='vb_all',alpha=0.8);\n",
    "plt.hist(cells[cells.artefact==0].swidth,60,color='cyan',label='tagged');\n",
    "sns.despine(left=True,bottom=True)\n",
    "plt.xlabel('Spike width [ms]')\n",
    "plt.title('Spike width arch')\n",
    "plt.legend()\n",
    "plt.savefig(r'N:\\davidcr\\stellate paper images\\python output\\spike_width_hist', format='png', dpi=1000)\n",
    "plt.show()\n",
    "\n",
    "sns.kdeplot(cells[cells.artefact==0].swidth, shade=True, color=\"cyan\",label='tagged')\n",
    "sns.kdeplot(non_inhib_cells[non_inhib_cells.artefact==0].swidth, shade=True, color=\"black\",label='untagged')\n",
    "sns.despine(left=True,bottom=True)\n",
    "plt.xlabel('Spike width (ms)')\n",
    "plt.title('Spike width (ms)')\n",
    "plt.legend()\n",
    "#plt.savefig(r'N:\\davidcr\\stellate paper images\\python output\\spike_width_kde', format='png', dpi=1000)\n",
    "plt.show()"
   ]
  },
  {
   "cell_type": "code",
   "execution_count": null,
   "metadata": {
    "collapsed": true
   },
   "outputs": [],
   "source": [
    "import scipy as scipy\n",
    "from scipy.stats import mannwhitneyu\n",
    "scipy.stats.mannwhitneyu(inhib_cells[inhib_cells.artefact==0].swidth, non_inhib_cells[non_inhib_cells.artefact==0].swidth)"
   ]
  },
  {
   "cell_type": "markdown",
   "metadata": {},
   "source": [
    "### Look at grid score "
   ]
  },
  {
   "cell_type": "code",
   "execution_count": null,
   "metadata": {
    "collapsed": true
   },
   "outputs": [],
   "source": [
    "plt.hist(non_inhib_cells[non_inhib_cells.artefact==0].grid_score_bnt,60,color='k',label='untagged',alpha=0.8,range=[-1, 1.4]);\n",
    "plt.hist(cells[cells.artefact==0].grid_score_bnt,60,color='cyan',label='tagged',range=[-1, 2]);\n",
    "\n",
    "sns.despine(left=True,bottom=True)\n",
    "plt.xlabel('Grid Score')\n",
    "plt.title('Grid Score')\n",
    "plt.legend()\n",
    "plt.rcParams['svg.fonttype'] = 'none'\n",
    "plt.savefig(r'N:\\davidcr\\stellate paper images\\python output\\grid_score_hist.svg', format='svg', dpi=1000)\n",
    "plt.show()\n",
    "\n",
    "sns.kdeplot(cells[cells.artefact==0].grid_score_bnt, shade=True, color=\"cyan\",label='tagged')\n",
    "sns.kdeplot(non_inhib_cells[non_inhib_cells.artefact==0].grid_score_bnt, shade=True, color=\"black\",label='untagged')\n",
    "sns.despine(left=True,bottom=True)\n",
    " \n",
    "plt.xlabel('Grid Score')\n",
    "plt.title('Grid Score')\n",
    "plt.legend()\n",
    "plt.rcParams['svg.fonttype'] = 'none'\n",
    "#plt.savefig(r'N:\\davidcr\\stellate paper images\\python output\\grid_score_kde.svg', format='svg', dpi=1000)\n",
    "plt.show()"
   ]
  },
  {
   "cell_type": "code",
   "execution_count": null,
   "metadata": {
    "collapsed": true
   },
   "outputs": [],
   "source": [
    "import scipy as scipy\n",
    "from scipy.stats import mannwhitneyu\n",
    "scipy.stats.mannwhitneyu(inhib_cells.grid_score_bnt, non_inhib_cells.grid_score_bnt)"
   ]
  },
  {
   "cell_type": "code",
   "execution_count": null,
   "metadata": {
    "collapsed": true
   },
   "outputs": [],
   "source": [
    "len(non_inhib_cells)"
   ]
  },
  {
   "cell_type": "markdown",
   "metadata": {},
   "source": [
    "### Look at speed score"
   ]
  },
  {
   "cell_type": "code",
   "execution_count": null,
   "metadata": {
    "collapsed": true
   },
   "outputs": [],
   "source": [
    "plt.hist(non_inhib_cells[non_inhib_cells.artefact==0].speedscore_bnt,60,color='k',label='untagged',alpha=0.8,range=[-1, 1]);\n",
    "plt.hist(cells[cells.artefact==0].speedscore_bnt,60,color='cyan',label='tagged',range=[-1, 1]);\n",
    "\n",
    "sns.despine(left=True,bottom=True)\n",
    "plt.xlabel('Speed Score')\n",
    "plt.title('Speed Score')\n",
    "plt.legend()\n",
    "plt.rcParams['svg.fonttype'] = 'none'\n",
    "plt.savefig(r'N:\\davidcr\\stellate paper images\\python output\\speed_score_hist.svg', format='svg', dpi=1000)\n",
    "plt.show()\n",
    "\n",
    "sns.kdeplot(cells[cells.artefact==0].speedscore_bnt, shade=True, color=\"cyan\",label='tagged')\n",
    "sns.kdeplot(non_inhib_cells[non_inhib_cells.artefact==0].speedscore_bnt, shade=True, color=\"black\",label='untagged')\n",
    "sns.despine(left=True,bottom=True)\n",
    "plt.xlabel('Speed Score')\n",
    "plt.xlim( (-1, 1) ) \n",
    "plt.title('Speed Score')\n",
    "plt.legend()\n",
    "plt.rcParams['svg.fonttype'] = 'none'\n",
    "plt.savefig(r'N:\\davidcr\\stellate paper images\\python output\\speed_score_kde.svg', format='svg', dpi=1000)\n",
    "plt.show()"
   ]
  },
  {
   "cell_type": "code",
   "execution_count": null,
   "metadata": {
    "collapsed": true
   },
   "outputs": [],
   "source": [
    "import scipy as scipy\n",
    "from scipy.stats import mannwhitneyu\n",
    "scipy.stats.mannwhitneyu(cells.speedscore_bnt, non_inhib_cells.speedscore_bnt)"
   ]
  },
  {
   "cell_type": "markdown",
   "metadata": {},
   "source": [
    "### look at directional tuning"
   ]
  },
  {
   "cell_type": "code",
   "execution_count": null,
   "metadata": {
    "collapsed": true
   },
   "outputs": [],
   "source": [
    "plt.hist(non_inhib_cells[non_inhib_cells.artefact==0].tc_stats_mvl_bnt,60,color='k',label='untagged',alpha=0.8,range=[0, 1]);\n",
    "plt.hist(cells[cells.artefact==0].tc_stats_mvl_bnt,60,color='cyan',label='tagged',range=[0, 1]);\n",
    "\n",
    "sns.despine(left=True,bottom=True)\n",
    "plt.xlabel('HD Score')\n",
    "plt.title('HD Score')\n",
    "plt.legend()\n",
    "plt.rcParams['svg.fonttype'] = 'none'\n",
    "plt.savefig(r'N:\\davidcr\\stellate paper images\\python output\\head_direction_hist.svg', format='svg', dpi=1000)\n",
    "plt.show()\n",
    "\n",
    "\n",
    "sns.kdeplot(non_inhib_cells[non_inhib_cells.artefact==0].tc_stats_mvl_bnt, shade=True, color=\"black\",label='untagged')\n",
    "sns.kdeplot(cells[cells.artefact==0].tc_stats_mvl_bnt, shade=True, color=\"cyan\",label='tagged')\n",
    "sns.despine(left=True,bottom=True)\n",
    "plt.xlim( (0, 1) ) \n",
    "plt.xlabel('HD Score')\n",
    "plt.title('HD Score')\n",
    "plt.legend()\n",
    "plt.rcParams['svg.fonttype'] = 'none'\n",
    "#plt.savefig(r'N:\\davidcr\\stellate paper images\\python output\\head_direction_kde.svg', format='svg', dpi=1000)\n",
    "plt.show()"
   ]
  },
  {
   "cell_type": "code",
   "execution_count": null,
   "metadata": {
    "collapsed": true
   },
   "outputs": [],
   "source": [
    "import scipy as scipy\n",
    "from scipy.stats import mannwhitneyu\n",
    "scipy.stats.mannwhitneyu(cells.tc_stats_mvl_bnt, non_inhib_cells.tc_stats_mvl_bnt)"
   ]
  },
  {
   "cell_type": "markdown",
   "metadata": {},
   "source": [
    "### Look at spatial information "
   ]
  },
  {
   "cell_type": "code",
   "execution_count": null,
   "metadata": {
    "collapsed": true
   },
   "outputs": [],
   "source": [
    "plt.hist(non_inhib_cells[non_inhib_cells.artefact==0].informationcontent_bnt,60,color='k',label='untagged',alpha=0.8,range=[0, 2.0]);\n",
    "plt.hist(cells[cells.artefact==0].informationcontent_bnt,60,color='cyan',label='tagged',range=[0, 1]);\n",
    "\n",
    "sns.despine(left=True,bottom=True)\n",
    "plt.xlabel('Information Content')\n",
    "plt.title('Information Content')\n",
    "plt.legend()\n",
    "plt.rcParams['svg.fonttype'] = 'none'\n",
    "plt.savefig(r'N:\\davidcr\\stellate paper images\\python output\\spatial_info_hist.svg', format='svg', dpi=1000)\n",
    "plt.show()\n",
    "\n",
    "\n",
    "sns.kdeplot(non_inhib_cells[non_inhib_cells.artefact==0].informationcontent_bnt, shade=True, color=\"black\",label='untagged')\n",
    "sns.kdeplot(cells[cells.artefact==0].informationcontent_bnt, shade=True, color=\"cyan\",label='tagged')\n",
    "sns.despine(left=True,bottom=True)\n",
    "plt.xlim( (0, 2) ) \n",
    "plt.xlabel('Information Content')\n",
    "plt.title('Information Content')\n",
    "plt.legend()\n",
    "plt.rcParams['svg.fonttype'] = 'none'\n",
    "#plt.savefig(r'N:\\davidcr\\stellate paper images\\python output\\spatial_info_kde.svg', format='svg', dpi=1000)\n",
    "plt.show()"
   ]
  },
  {
   "cell_type": "code",
   "execution_count": null,
   "metadata": {
    "collapsed": true
   },
   "outputs": [],
   "source": [
    "import scipy as scipy\n",
    "from scipy.stats import mannwhitneyu\n",
    "scipy.stats.mannwhitneyu(cells.informationcontent_bnt, non_inhib_cells.informationcontent_bnt)"
   ]
  },
  {
   "cell_type": "markdown",
   "metadata": {},
   "source": [
    "### look at border score"
   ]
  },
  {
   "cell_type": "code",
   "execution_count": null,
   "metadata": {
    "collapsed": true
   },
   "outputs": [],
   "source": [
    "plt.hist(non_inhib_cells[non_inhib_cells.artefact==0].borderscore_bnt,60,color='k',label='untagged',alpha=0.8,range=[-1, 1.0]);\n",
    "plt.hist(cells[cells.artefact==0].borderscore_bnt,60,color='cyan',label='tagged',range=[0, 1]);\n",
    "\n",
    "sns.despine(left=True,bottom=True)\n",
    "plt.xlabel('Border score')\n",
    "plt.title('Border score')\n",
    "plt.legend()\n",
    "plt.rcParams['svg.fonttype'] = 'none'\n",
    "plt.savefig(r'N:\\davidcr\\stellate paper images\\python output\\border_score_hist.svg', format='svg', dpi=1000)\n",
    "plt.show()\n",
    "\n",
    "\n",
    "sns.kdeplot(non_inhib_cells[non_inhib_cells.artefact==0].borderscore_bnt, shade=True, color=\"black\",label='untagged')\n",
    "sns.kdeplot(cells[cells.artefact==0].borderscore_bnt, shade=True, color=\"cyan\",label='tagged')\n",
    "sns.despine(left=True,bottom=True)\n",
    "plt.xlim( (-1.0, 1) ) \n",
    "plt.xlabel('Border score')\n",
    "plt.title('Border score')\n",
    "plt.legend()\n",
    "plt.rcParams['svg.fonttype'] = 'none'\n",
    "#plt.savefig(r'N:\\davidcr\\stellate paper images\\python output\\border_score_kde.svg', format='svg', dpi=1000)\n",
    "plt.show()"
   ]
  },
  {
   "cell_type": "code",
   "execution_count": null,
   "metadata": {
    "collapsed": true
   },
   "outputs": [],
   "source": [
    "import scipy as scipy\n",
    "from scipy.stats import mannwhitneyu\n",
    "scipy.stats.mannwhitneyu(cells[cells.artefact==0].borderscore_bnt, non_inhib_cells[non_inhib_cells.artefact==0].borderscore_bnt)"
   ]
  },
  {
   "cell_type": "markdown",
   "metadata": {},
   "source": [
    "### now look at burstiness"
   ]
  },
  {
   "cell_type": "code",
   "execution_count": null,
   "metadata": {
    "collapsed": true
   },
   "outputs": [],
   "source": [
    "plt.hist(non_inhib_cells[non_inhib_cells.artefact==0].burst_idx2,60,color='k',label='untagged',alpha=0.8,range=[0, 20]);\n",
    "plt.hist(cells[cells.artefact==0].burst_idx2,60,color='cyan',label='tagged',range=[0, 20]);\n",
    "\n",
    "sns.despine(left=True,bottom=True)\n",
    "plt.xlabel('Burst index')\n",
    "plt.title('Burst index')\n",
    "plt.legend()\n",
    "plt.show()\n",
    "\n",
    "\n",
    "sns.kdeplot(non_inhib_cells[non_inhib_cells.artefact==0].burst_idx2, shade=True, color=\"black\",label='untagged')\n",
    "sns.kdeplot(cells[cells.artefact==0].burst_idx2, shade=True, color=\"cyan\",label='tagged')\n",
    "sns.despine(left=True,bottom=True)\n",
    "plt.xlabel('Burst index')\n",
    "plt.title('Burst index')\n",
    "plt.legend()\n",
    "plt.show()"
   ]
  },
  {
   "cell_type": "code",
   "execution_count": null,
   "metadata": {
    "collapsed": true
   },
   "outputs": [],
   "source": [
    "import scipy as scipy\n",
    "from scipy.stats import mannwhitneyu\n",
    "scipy.stats.mannwhitneyu(cells[cells.artefact==0].burst_idx2, non_inhib_cells[non_inhib_cells.artefact==0].burst_idx2)"
   ]
  },
  {
   "cell_type": "code",
   "execution_count": null,
   "metadata": {
    "collapsed": true
   },
   "outputs": [],
   "source": [
    "plt.hist(non_inhib_cells[non_inhib_cells.artefact==0].isi_stats_percent_bursts,60,color='k',label='untagged',alpha=0.8,range=[0, 60]);\n",
    "plt.hist(cells[cells.artefact==0].isi_stats_percent_bursts,60,color='cyan',label='tagged',range=[0, 60]);\n",
    "\n",
    "sns.despine(left=True,bottom=True)\n",
    "plt.xlabel('Percent in burst')\n",
    "plt.title('Percent in burst')\n",
    "plt.legend()\n",
    "plt.show()\n",
    "\n",
    "\n",
    "sns.kdeplot(non_inhib_cells[non_inhib_cells.artefact==0].isi_stats_percent_bursts, shade=True, color=\"black\",label='untagged')\n",
    "sns.kdeplot(cells[cells.artefact==0].isi_stats_percent_bursts, shade=True, color=\"cyan\",label='tagged')\n",
    "sns.despine(left=True,bottom=True)\n",
    "plt.xlabel('Percent in burst')\n",
    "plt.title('Percent in burst')\n",
    "plt.legend()\n",
    "plt.show()"
   ]
  },
  {
   "cell_type": "markdown",
   "metadata": {},
   "source": [
    "## section for plotting as a violin plot instead"
   ]
  },
  {
   "cell_type": "markdown",
   "metadata": {},
   "source": [
    "## Make some violin plots for comparison "
   ]
  },
  {
   "cell_type": "code",
   "execution_count": null,
   "metadata": {
    "collapsed": true
   },
   "outputs": [],
   "source": [
    "figure = plt.figure(facecolor='w')\n",
    "\n",
    "sns.set(font_scale=1.)\n",
    "sns.set_style('white')\n",
    " \n",
    "    \n",
    "\n",
    "figure.set_size_inches(11.7, 8.27)\n",
    "\n",
    "sns.set_style(\"white\")\n",
    "\n",
    "vb_all[\"null\"] = \"\"\n",
    "\n",
    "taggedCM = [\"#e0ffff\", \"#C0C0C0\"]\n",
    "sns.set_palette(taggedCM)\n",
    "#sns.palplot(sns.color_palette())\n",
    "\n",
    "ax = sns.violinplot(x = vb_all[\"null\"],y=vb_all.grid_score_bnt.astype(float) , hue = vb_all.label,split = True, alpha = 0.1)\n",
    "taggedCM2 = [\"#00ffff\", \"#000000\"]\n",
    "sns.set_palette(taggedCM2)\n",
    "ax = sns.stripplot(x = vb_all[\"null\"],y=vb_all.grid_score_bnt.astype(float) , hue = vb_all.label,jitter = True, dodge = True, size=10,linewidth=1,alpha = 0.3)\n",
    "#plt.savefig(r'N:\\davidcr\\stellate paper images\\python output\\grid_score_violin.svg', format='svg', dpi=1000)\n",
    "\n",
    "\n",
    "figure = plt.figure(facecolor='w')\n",
    "sns.set(font_scale=1.)\n",
    "figure.set_size_inches(11.7, 8.27)\n",
    "sns.set_style(\"white\")\n",
    "\n",
    "taggedCM = [\"#e0ffff\", \"#C0C0C0\"]\n",
    "sns.set_palette(taggedCM)\n",
    "ax2 = sns.violinplot(x = vb_all[\"null\"],y=vb_all.borderscore_bnt.astype(float) , hue = vb_all.label,split = True, alpha = 0.1)\n",
    "taggedCM2 = [\"#00ffff\", \"#000000\"]\n",
    "sns.set_palette(taggedCM2)\n",
    "ax2 = sns.stripplot(x = vb_all[\"null\"],y=vb_all.borderscore_bnt.astype(float) , hue = vb_all.label,jitter = True, dodge = True, size=10,linewidth=1,alpha = 0.3)\n",
    "#plt.savefig(r'N:\\davidcr\\stellate paper images\\python output\\border_score_violin.svg', format='svg', dpi=1000)\n",
    "\n",
    "\n",
    "figure = plt.figure(facecolor='w')\n",
    "sns.set(font_scale=1.)\n",
    "figure.set_size_inches(11.7, 8.27)\n",
    "sns.set_style(\"white\")\n",
    "\n",
    "taggedCM = [\"#e0ffff\", \"#C0C0C0\"]\n",
    "sns.set_palette(taggedCM)\n",
    "ax2 = sns.violinplot(x = vb_all[\"null\"],y=vb_all.tc_stats_mvl_bnt.astype(float) , hue = vb_all.label,split = True, alpha = 0.1)\n",
    "taggedCM2 = [\"#00ffff\", \"#000000\"]\n",
    "sns.set_palette(taggedCM2)\n",
    "ax2 = sns.stripplot(x = vb_all[\"null\"],y=vb_all.tc_stats_mvl_bnt.astype(float) , hue = vb_all.label,jitter = True, dodge = True, size=10,linewidth=1,alpha = 0.3 )\n",
    "#plt.savefig(r'N:\\davidcr\\stellate paper images\\python output\\HD_score_violin.svg', format='svg', dpi=1000)\n",
    "\n",
    "\n",
    "figure = plt.figure(facecolor='w')\n",
    "sns.set(font_scale=1.)\n",
    "figure.set_size_inches(11.7, 8.27)\n",
    "sns.set_style(\"white\")\n",
    "\n",
    "taggedCM = [\"#e0ffff\", \"#C0C0C0\"]\n",
    "sns.set_palette(taggedCM)\n",
    "ax2 = sns.violinplot(x = vb_all[\"null\"],y=vb_all.speedscore_bnt.astype(float) , hue = vb_all.label,split = True, alpha = 0.1)\n",
    "taggedCM2 = [\"#00ffff\", \"#000000\"]\n",
    "sns.set_palette(taggedCM2)\n",
    "ax2 = sns.stripplot(x = vb_all[\"null\"],y=vb_all.speedscore_bnt.astype(float) , hue = vb_all.label,jitter = True, dodge = True, size=10, linewidth=1, alpha = 0.3)\n",
    "#plt.savefig(r'N:\\davidcr\\stellate paper images\\python output\\speed_score_violin.svg', format='svg', dpi=1000)\n",
    "\n"
   ]
  },
  {
   "cell_type": "code",
   "execution_count": null,
   "metadata": {},
   "outputs": [],
   "source": []
  }
 ],
 "metadata": {
  "kernelspec": {
   "display_name": "Python 3",
   "language": "python",
   "name": "python3"
  },
  "language_info": {
   "codemirror_mode": {
    "name": "ipython",
    "version": 3
   },
   "file_extension": ".py",
   "mimetype": "text/x-python",
   "name": "python",
   "nbconvert_exporter": "python",
   "pygments_lexer": "ipython3",
   "version": "3.6.2"
  },
  "notify_time": "5",
  "widgets": {
   "application/vnd.jupyter.widget-state+json": {
    "state": {
     "142739941ccb492184dc4a29daf88f05": {
      "model_module": "jupyter-js-widgets",
      "model_module_version": "~2.0.30",
      "model_name": "LayoutModel",
      "state": {
       "_model_module_version": "~2.0.30",
       "_view_module_version": "~2.0.30"
      }
     },
     "18f095f85119473183435ea6ab677fe3": {
      "model_module": "jupyter-js-widgets",
      "model_module_version": "~2.0.30",
      "model_name": "OutputModel",
      "state": {
       "_dom_classes": [],
       "_model_module": "jupyter-js-widgets",
       "_model_module_version": "~2.0.30",
       "_view_module": "jupyter-js-widgets",
       "_view_module_version": "~2.0.30",
       "layout": "IPY_MODEL_142739941ccb492184dc4a29daf88f05",
       "msg_throttle": 1
      }
     },
     "1ec8d4195e3f41a780ff1340e9dcc5a1": {
      "model_module": "jupyter-js-widgets",
      "model_module_version": "~2.0.30",
      "model_name": "LayoutModel",
      "state": {
       "_model_module_version": "~2.0.30",
       "_view_module_version": "~2.0.30"
      }
     },
     "6c826c931af7406e923d24fc67d9462f": {
      "model_module": "jupyter-js-widgets",
      "model_module_version": "~2.0.30",
      "model_name": "SliderStyleModel",
      "state": {
       "_model_module_version": "~2.0.30",
       "_view_module_version": "~2.0.30"
      }
     },
     "af3d44e19ad846cbb076e9983825fc21": {
      "model_module": "jupyter-js-widgets",
      "model_module_version": "~2.0.30",
      "model_name": "VBoxModel",
      "state": {
       "_dom_classes": [
        "widget-interact"
       ],
       "_model_module_version": "~2.0.30",
       "_view_module_version": "~2.0.30",
       "children": [
        "IPY_MODEL_e10f82066fb945d6b8f2f38689e207e7",
        "IPY_MODEL_18f095f85119473183435ea6ab677fe3"
       ],
       "layout": "IPY_MODEL_ce6232d4b70d4a1e83b5f9c6fdb11409"
      }
     },
     "ce6232d4b70d4a1e83b5f9c6fdb11409": {
      "model_module": "jupyter-js-widgets",
      "model_module_version": "~2.0.30",
      "model_name": "LayoutModel",
      "state": {
       "_model_module_version": "~2.0.30",
       "_view_module_version": "~2.0.30"
      }
     },
     "e10f82066fb945d6b8f2f38689e207e7": {
      "model_module": "jupyter-js-widgets",
      "model_module_version": "~2.0.30",
      "model_name": "IntSliderModel",
      "state": {
       "_model_module_version": "~2.0.30",
       "_view_module_version": "~2.0.30",
       "description": "i",
       "layout": "IPY_MODEL_1ec8d4195e3f41a780ff1340e9dcc5a1",
       "max": 1796,
       "style": "IPY_MODEL_6c826c931af7406e923d24fc67d9462f",
       "value": 912
      }
     }
    },
    "version_major": 1,
    "version_minor": 0
   }
  }
 },
 "nbformat": 4,
 "nbformat_minor": 2
}
